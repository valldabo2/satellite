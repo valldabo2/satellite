{
 "cells": [
  {
   "cell_type": "code",
   "execution_count": null,
   "id": "92eab82d-a624-4fed-8486-d6008ac081b9",
   "metadata": {},
   "outputs": [],
   "source": [
    "%load_ext autoreload\n",
    "%autoreload 2\n",
    "%matplotlib inline"
   ]
  },
  {
   "cell_type": "code",
   "execution_count": 1,
   "id": "ea276202-a3c8-4c1d-bd9f-e7bcded61e9c",
   "metadata": {
    "collapsed": true,
    "jupyter": {
     "outputs_hidden": true
    },
    "tags": []
   },
   "outputs": [
    {
     "name": "stdout",
     "output_type": "stream",
     "text": [
      "Requirement already satisfied: jupyterlab==3.0.14 in /Users/utsavkumarjha/Desktop/self/code/satellite/venv/lib/python3.7/site-packages (from -r ../requirements.txt (line 1)) (3.0.14)\n",
      "Requirement already satisfied: sentinelhub==3.2.1 in /Users/utsavkumarjha/Desktop/self/code/satellite/venv/lib/python3.7/site-packages (from -r ../requirements.txt (line 2)) (3.2.1)\n",
      "Requirement already satisfied: sentinelsat in /Users/utsavkumarjha/Desktop/self/code/satellite/venv/lib/python3.7/site-packages (from -r ../requirements.txt (line 3)) (0.14)\n",
      "Requirement already satisfied: rasterio==1.2.2 in /Users/utsavkumarjha/Desktop/self/code/satellite/venv/lib/python3.7/site-packages (from -r ../requirements.txt (line 5)) (1.2.2)\n",
      "Requirement already satisfied: matplotlib==3.4.1 in /Users/utsavkumarjha/Desktop/self/code/satellite/venv/lib/python3.7/site-packages (from -r ../requirements.txt (line 6)) (3.4.1)\n",
      "Requirement already satisfied: scikit-image==0.18.1 in /Users/utsavkumarjha/Desktop/self/code/satellite/venv/lib/python3.7/site-packages (from -r ../requirements.txt (line 7)) (0.18.1)\n",
      "Requirement already satisfied: pandas==1.2.4 in /Users/utsavkumarjha/Desktop/self/code/satellite/venv/lib/python3.7/site-packages (from -r ../requirements.txt (line 8)) (1.2.4)\n",
      "Requirement already satisfied: ipython in /Users/utsavkumarjha/Desktop/self/code/satellite/venv/lib/python3.7/site-packages (from jupyterlab==3.0.14->-r ../requirements.txt (line 1)) (7.22.0)\n",
      "Requirement already satisfied: jupyterlab-server~=2.3 in /Users/utsavkumarjha/Desktop/self/code/satellite/venv/lib/python3.7/site-packages (from jupyterlab==3.0.14->-r ../requirements.txt (line 1)) (2.4.0)\n",
      "Requirement already satisfied: jupyter-server~=1.4 in /Users/utsavkumarjha/Desktop/self/code/satellite/venv/lib/python3.7/site-packages (from jupyterlab==3.0.14->-r ../requirements.txt (line 1)) (1.6.1)\n",
      "Requirement already satisfied: jinja2>=2.10 in /Users/utsavkumarjha/Desktop/self/code/satellite/venv/lib/python3.7/site-packages (from jupyterlab==3.0.14->-r ../requirements.txt (line 1)) (2.11.3)\n",
      "Requirement already satisfied: nbclassic~=0.2 in /Users/utsavkumarjha/Desktop/self/code/satellite/venv/lib/python3.7/site-packages (from jupyterlab==3.0.14->-r ../requirements.txt (line 1)) (0.2.7)\n",
      "Requirement already satisfied: jupyter-packaging~=0.7 in /Users/utsavkumarjha/Desktop/self/code/satellite/venv/lib/python3.7/site-packages (from jupyterlab==3.0.14->-r ../requirements.txt (line 1)) (0.9.1)\n",
      "Requirement already satisfied: tornado>=6.1.0 in /Users/utsavkumarjha/Desktop/self/code/satellite/venv/lib/python3.7/site-packages (from jupyterlab==3.0.14->-r ../requirements.txt (line 1)) (6.1)\n",
      "Requirement already satisfied: packaging in /Users/utsavkumarjha/Desktop/self/code/satellite/venv/lib/python3.7/site-packages (from jupyterlab==3.0.14->-r ../requirements.txt (line 1)) (20.9)\n",
      "Requirement already satisfied: jupyter-core in /Users/utsavkumarjha/Desktop/self/code/satellite/venv/lib/python3.7/site-packages (from jupyterlab==3.0.14->-r ../requirements.txt (line 1)) (4.7.1)\n",
      "Requirement already satisfied: click in /Users/utsavkumarjha/Desktop/self/code/satellite/venv/lib/python3.7/site-packages (from sentinelhub==3.2.1->-r ../requirements.txt (line 2)) (7.1.2)\n",
      "Requirement already satisfied: shapely in /Users/utsavkumarjha/Desktop/self/code/satellite/venv/lib/python3.7/site-packages (from sentinelhub==3.2.1->-r ../requirements.txt (line 2)) (1.7.1)\n",
      "Requirement already satisfied: numpy in /Users/utsavkumarjha/Desktop/self/code/satellite/venv/lib/python3.7/site-packages (from sentinelhub==3.2.1->-r ../requirements.txt (line 2)) (1.20.2)\n",
      "Requirement already satisfied: pyproj>=2.2.0 in /Users/utsavkumarjha/Desktop/self/code/satellite/venv/lib/python3.7/site-packages (from sentinelhub==3.2.1->-r ../requirements.txt (line 2)) (3.0.1)\n",
      "Requirement already satisfied: tifffile in /Users/utsavkumarjha/Desktop/self/code/satellite/venv/lib/python3.7/site-packages (from sentinelhub==3.2.1->-r ../requirements.txt (line 2)) (2021.4.8)\n",
      "Requirement already satisfied: pillow in /Users/utsavkumarjha/Desktop/self/code/satellite/venv/lib/python3.7/site-packages (from sentinelhub==3.2.1->-r ../requirements.txt (line 2)) (8.2.0)\n",
      "Requirement already satisfied: python-dateutil in /Users/utsavkumarjha/Desktop/self/code/satellite/venv/lib/python3.7/site-packages (from sentinelhub==3.2.1->-r ../requirements.txt (line 2)) (2.8.1)\n",
      "Requirement already satisfied: boto3 in /Users/utsavkumarjha/Desktop/self/code/satellite/venv/lib/python3.7/site-packages (from sentinelhub==3.2.1->-r ../requirements.txt (line 2)) (1.17.51)\n",
      "Requirement already satisfied: requests>=2.5.0 in /Users/utsavkumarjha/Desktop/self/code/satellite/venv/lib/python3.7/site-packages (from sentinelhub==3.2.1->-r ../requirements.txt (line 2)) (2.25.1)\n",
      "Requirement already satisfied: botocore in /Users/utsavkumarjha/Desktop/self/code/satellite/venv/lib/python3.7/site-packages (from sentinelhub==3.2.1->-r ../requirements.txt (line 2)) (1.20.51)\n",
      "Requirement already satisfied: oauthlib in /Users/utsavkumarjha/Desktop/self/code/satellite/venv/lib/python3.7/site-packages (from sentinelhub==3.2.1->-r ../requirements.txt (line 2)) (3.1.0)\n",
      "Requirement already satisfied: wheel in /Users/utsavkumarjha/Desktop/self/code/satellite/venv/lib/python3.7/site-packages (from sentinelhub==3.2.1->-r ../requirements.txt (line 2)) (0.36.2)\n",
      "Requirement already satisfied: utm in /Users/utsavkumarjha/Desktop/self/code/satellite/venv/lib/python3.7/site-packages (from sentinelhub==3.2.1->-r ../requirements.txt (line 2)) (0.7.0)\n",
      "Requirement already satisfied: aenum>=2.1.4 in /Users/utsavkumarjha/Desktop/self/code/satellite/venv/lib/python3.7/site-packages (from sentinelhub==3.2.1->-r ../requirements.txt (line 2)) (3.0.0)\n",
      "Requirement already satisfied: dataclasses-json in /Users/utsavkumarjha/Desktop/self/code/satellite/venv/lib/python3.7/site-packages (from sentinelhub==3.2.1->-r ../requirements.txt (line 2)) (0.5.2)\n",
      "Requirement already satisfied: requests-oauthlib in /Users/utsavkumarjha/Desktop/self/code/satellite/venv/lib/python3.7/site-packages (from sentinelhub==3.2.1->-r ../requirements.txt (line 2)) (1.3.0)\n",
      "Requirement already satisfied: geojson>=2 in /Users/utsavkumarjha/Desktop/self/code/satellite/venv/lib/python3.7/site-packages (from sentinelsat->-r ../requirements.txt (line 3)) (2.5.0)\n",
      "Requirement already satisfied: six in /Users/utsavkumarjha/Desktop/self/code/satellite/venv/lib/python3.7/site-packages (from sentinelsat->-r ../requirements.txt (line 3)) (1.15.0)\n",
      "Requirement already satisfied: tqdm in /Users/utsavkumarjha/Desktop/self/code/satellite/venv/lib/python3.7/site-packages (from sentinelsat->-r ../requirements.txt (line 3)) (4.60.0)\n",
      "Requirement already satisfied: html2text in /Users/utsavkumarjha/Desktop/self/code/satellite/venv/lib/python3.7/site-packages (from sentinelsat->-r ../requirements.txt (line 3)) (2020.1.16)\n",
      "Requirement already satisfied: geomet in /Users/utsavkumarjha/Desktop/self/code/satellite/venv/lib/python3.7/site-packages (from sentinelsat->-r ../requirements.txt (line 3)) (0.3.0)\n",
      "Requirement already satisfied: snuggs>=1.4.1 in /Users/utsavkumarjha/Desktop/self/code/satellite/venv/lib/python3.7/site-packages (from rasterio==1.2.2->-r ../requirements.txt (line 5)) (1.4.7)\n",
      "Requirement already satisfied: affine in /Users/utsavkumarjha/Desktop/self/code/satellite/venv/lib/python3.7/site-packages (from rasterio==1.2.2->-r ../requirements.txt (line 5)) (2.3.0)\n",
      "Requirement already satisfied: attrs in /Users/utsavkumarjha/Desktop/self/code/satellite/venv/lib/python3.7/site-packages (from rasterio==1.2.2->-r ../requirements.txt (line 5)) (20.3.0)\n",
      "Requirement already satisfied: certifi in /Users/utsavkumarjha/Desktop/self/code/satellite/venv/lib/python3.7/site-packages (from rasterio==1.2.2->-r ../requirements.txt (line 5)) (2020.12.5)\n",
      "Requirement already satisfied: cligj>=0.5 in /Users/utsavkumarjha/Desktop/self/code/satellite/venv/lib/python3.7/site-packages (from rasterio==1.2.2->-r ../requirements.txt (line 5)) (0.7.1)\n",
      "Requirement already satisfied: click-plugins in /Users/utsavkumarjha/Desktop/self/code/satellite/venv/lib/python3.7/site-packages (from rasterio==1.2.2->-r ../requirements.txt (line 5)) (1.1.1)\n",
      "Requirement already satisfied: kiwisolver>=1.0.1 in /Users/utsavkumarjha/Desktop/self/code/satellite/venv/lib/python3.7/site-packages (from matplotlib==3.4.1->-r ../requirements.txt (line 6)) (1.3.1)\n",
      "Requirement already satisfied: cycler>=0.10 in /Users/utsavkumarjha/Desktop/self/code/satellite/venv/lib/python3.7/site-packages (from matplotlib==3.4.1->-r ../requirements.txt (line 6)) (0.10.0)\n",
      "Requirement already satisfied: pyparsing>=2.2.1 in /Users/utsavkumarjha/Desktop/self/code/satellite/venv/lib/python3.7/site-packages (from matplotlib==3.4.1->-r ../requirements.txt (line 6)) (2.4.7)\n",
      "Requirement already satisfied: scipy>=1.0.1 in /Users/utsavkumarjha/Desktop/self/code/satellite/venv/lib/python3.7/site-packages (from scikit-image==0.18.1->-r ../requirements.txt (line 7)) (1.6.2)\n",
      "Requirement already satisfied: networkx>=2.0 in /Users/utsavkumarjha/Desktop/self/code/satellite/venv/lib/python3.7/site-packages (from scikit-image==0.18.1->-r ../requirements.txt (line 7)) (2.5.1)\n",
      "Requirement already satisfied: PyWavelets>=1.1.1 in /Users/utsavkumarjha/Desktop/self/code/satellite/venv/lib/python3.7/site-packages (from scikit-image==0.18.1->-r ../requirements.txt (line 7)) (1.1.1)\n",
      "Requirement already satisfied: imageio>=2.3.0 in /Users/utsavkumarjha/Desktop/self/code/satellite/venv/lib/python3.7/site-packages (from scikit-image==0.18.1->-r ../requirements.txt (line 7)) (2.9.0)\n",
      "Requirement already satisfied: pytz>=2017.3 in /Users/utsavkumarjha/Desktop/self/code/satellite/venv/lib/python3.7/site-packages (from pandas==1.2.4->-r ../requirements.txt (line 8)) (2021.1)\n",
      "Requirement already satisfied: jedi>=0.16 in /Users/utsavkumarjha/Desktop/self/code/satellite/venv/lib/python3.7/site-packages (from ipython->jupyterlab==3.0.14->-r ../requirements.txt (line 1)) (0.18.0)\n",
      "Requirement already satisfied: appnope; sys_platform == \"darwin\" in /Users/utsavkumarjha/Desktop/self/code/satellite/venv/lib/python3.7/site-packages (from ipython->jupyterlab==3.0.14->-r ../requirements.txt (line 1)) (0.1.2)\n",
      "Requirement already satisfied: pickleshare in /Users/utsavkumarjha/Desktop/self/code/satellite/venv/lib/python3.7/site-packages (from ipython->jupyterlab==3.0.14->-r ../requirements.txt (line 1)) (0.7.5)\n",
      "Requirement already satisfied: setuptools>=18.5 in /Users/utsavkumarjha/Desktop/self/code/satellite/venv/lib/python3.7/site-packages (from ipython->jupyterlab==3.0.14->-r ../requirements.txt (line 1)) (56.0.0)\n",
      "Requirement already satisfied: pygments in /Users/utsavkumarjha/Desktop/self/code/satellite/venv/lib/python3.7/site-packages (from ipython->jupyterlab==3.0.14->-r ../requirements.txt (line 1)) (2.8.1)\n",
      "Requirement already satisfied: traitlets>=4.2 in /Users/utsavkumarjha/Desktop/self/code/satellite/venv/lib/python3.7/site-packages (from ipython->jupyterlab==3.0.14->-r ../requirements.txt (line 1)) (5.0.5)\n",
      "Requirement already satisfied: backcall in /Users/utsavkumarjha/Desktop/self/code/satellite/venv/lib/python3.7/site-packages (from ipython->jupyterlab==3.0.14->-r ../requirements.txt (line 1)) (0.2.0)\n",
      "Requirement already satisfied: pexpect>4.3; sys_platform != \"win32\" in /Users/utsavkumarjha/Desktop/self/code/satellite/venv/lib/python3.7/site-packages (from ipython->jupyterlab==3.0.14->-r ../requirements.txt (line 1)) (4.8.0)\n",
      "Requirement already satisfied: prompt-toolkit!=3.0.0,!=3.0.1,<3.1.0,>=2.0.0 in /Users/utsavkumarjha/Desktop/self/code/satellite/venv/lib/python3.7/site-packages (from ipython->jupyterlab==3.0.14->-r ../requirements.txt (line 1)) (3.0.18)\n",
      "Requirement already satisfied: decorator in /Users/utsavkumarjha/Desktop/self/code/satellite/venv/lib/python3.7/site-packages (from ipython->jupyterlab==3.0.14->-r ../requirements.txt (line 1)) (5.0.7)\n",
      "Requirement already satisfied: jsonschema>=3.0.1 in /Users/utsavkumarjha/Desktop/self/code/satellite/venv/lib/python3.7/site-packages (from jupyterlab-server~=2.3->jupyterlab==3.0.14->-r ../requirements.txt (line 1)) (3.2.0)\n",
      "Requirement already satisfied: json5 in /Users/utsavkumarjha/Desktop/self/code/satellite/venv/lib/python3.7/site-packages (from jupyterlab-server~=2.3->jupyterlab==3.0.14->-r ../requirements.txt (line 1)) (0.9.5)\n",
      "Requirement already satisfied: babel in /Users/utsavkumarjha/Desktop/self/code/satellite/venv/lib/python3.7/site-packages (from jupyterlab-server~=2.3->jupyterlab==3.0.14->-r ../requirements.txt (line 1)) (2.9.0)\n",
      "Requirement already satisfied: argon2-cffi in /Users/utsavkumarjha/Desktop/self/code/satellite/venv/lib/python3.7/site-packages (from jupyter-server~=1.4->jupyterlab==3.0.14->-r ../requirements.txt (line 1)) (20.1.0)\n",
      "Requirement already satisfied: prometheus-client in /Users/utsavkumarjha/Desktop/self/code/satellite/venv/lib/python3.7/site-packages (from jupyter-server~=1.4->jupyterlab==3.0.14->-r ../requirements.txt (line 1)) (0.10.1)\n",
      "Requirement already satisfied: ipython-genutils in /Users/utsavkumarjha/Desktop/self/code/satellite/venv/lib/python3.7/site-packages (from jupyter-server~=1.4->jupyterlab==3.0.14->-r ../requirements.txt (line 1)) (0.2.0)\n",
      "Requirement already satisfied: jupyter-client>=6.1.1 in /Users/utsavkumarjha/Desktop/self/code/satellite/venv/lib/python3.7/site-packages (from jupyter-server~=1.4->jupyterlab==3.0.14->-r ../requirements.txt (line 1)) (6.2.0)\n",
      "Requirement already satisfied: nbformat in /Users/utsavkumarjha/Desktop/self/code/satellite/venv/lib/python3.7/site-packages (from jupyter-server~=1.4->jupyterlab==3.0.14->-r ../requirements.txt (line 1)) (5.1.3)\n",
      "Requirement already satisfied: pyzmq>=17 in /Users/utsavkumarjha/Desktop/self/code/satellite/venv/lib/python3.7/site-packages (from jupyter-server~=1.4->jupyterlab==3.0.14->-r ../requirements.txt (line 1)) (22.0.3)\n",
      "Requirement already satisfied: Send2Trash in /Users/utsavkumarjha/Desktop/self/code/satellite/venv/lib/python3.7/site-packages (from jupyter-server~=1.4->jupyterlab==3.0.14->-r ../requirements.txt (line 1)) (1.5.0)\n",
      "Requirement already satisfied: terminado>=0.8.3 in /Users/utsavkumarjha/Desktop/self/code/satellite/venv/lib/python3.7/site-packages (from jupyter-server~=1.4->jupyterlab==3.0.14->-r ../requirements.txt (line 1)) (0.9.4)\n",
      "Requirement already satisfied: nbconvert in /Users/utsavkumarjha/Desktop/self/code/satellite/venv/lib/python3.7/site-packages (from jupyter-server~=1.4->jupyterlab==3.0.14->-r ../requirements.txt (line 1)) (6.0.7)\n",
      "Requirement already satisfied: anyio>=2.0.2 in /Users/utsavkumarjha/Desktop/self/code/satellite/venv/lib/python3.7/site-packages (from jupyter-server~=1.4->jupyterlab==3.0.14->-r ../requirements.txt (line 1)) (2.2.0)\n",
      "Requirement already satisfied: MarkupSafe>=0.23 in /Users/utsavkumarjha/Desktop/self/code/satellite/venv/lib/python3.7/site-packages (from jinja2>=2.10->jupyterlab==3.0.14->-r ../requirements.txt (line 1)) (1.1.1)\n",
      "Requirement already satisfied: notebook<7 in /Users/utsavkumarjha/Desktop/self/code/satellite/venv/lib/python3.7/site-packages (from nbclassic~=0.2->jupyterlab==3.0.14->-r ../requirements.txt (line 1)) (6.3.0)\n",
      "Requirement already satisfied: tomlkit in /Users/utsavkumarjha/Desktop/self/code/satellite/venv/lib/python3.7/site-packages (from jupyter-packaging~=0.7->jupyterlab==3.0.14->-r ../requirements.txt (line 1)) (0.7.0)\n",
      "Requirement already satisfied: deprecation in /Users/utsavkumarjha/Desktop/self/code/satellite/venv/lib/python3.7/site-packages (from jupyter-packaging~=0.7->jupyterlab==3.0.14->-r ../requirements.txt (line 1)) (2.1.0)\n",
      "Requirement already satisfied: jmespath<1.0.0,>=0.7.1 in /Users/utsavkumarjha/Desktop/self/code/satellite/venv/lib/python3.7/site-packages (from boto3->sentinelhub==3.2.1->-r ../requirements.txt (line 2)) (0.10.0)\n",
      "Requirement already satisfied: s3transfer<0.4.0,>=0.3.0 in /Users/utsavkumarjha/Desktop/self/code/satellite/venv/lib/python3.7/site-packages (from boto3->sentinelhub==3.2.1->-r ../requirements.txt (line 2)) (0.3.7)\n",
      "Requirement already satisfied: urllib3<1.27,>=1.21.1 in /Users/utsavkumarjha/Desktop/self/code/satellite/venv/lib/python3.7/site-packages (from requests>=2.5.0->sentinelhub==3.2.1->-r ../requirements.txt (line 2)) (1.26.4)\n",
      "Requirement already satisfied: chardet<5,>=3.0.2 in /Users/utsavkumarjha/Desktop/self/code/satellite/venv/lib/python3.7/site-packages (from requests>=2.5.0->sentinelhub==3.2.1->-r ../requirements.txt (line 2)) (4.0.0)\n",
      "Requirement already satisfied: idna<3,>=2.5 in /Users/utsavkumarjha/Desktop/self/code/satellite/venv/lib/python3.7/site-packages (from requests>=2.5.0->sentinelhub==3.2.1->-r ../requirements.txt (line 2)) (2.10)\n",
      "Requirement already satisfied: stringcase<2.0.0,==1.2.0 in /Users/utsavkumarjha/Desktop/self/code/satellite/venv/lib/python3.7/site-packages (from dataclasses-json->sentinelhub==3.2.1->-r ../requirements.txt (line 2)) (1.2.0)\n",
      "Requirement already satisfied: marshmallow-enum<2.0.0,>=1.5.1 in /Users/utsavkumarjha/Desktop/self/code/satellite/venv/lib/python3.7/site-packages (from dataclasses-json->sentinelhub==3.2.1->-r ../requirements.txt (line 2)) (1.5.1)\n",
      "Requirement already satisfied: marshmallow<4.0.0,>=3.3.0 in /Users/utsavkumarjha/Desktop/self/code/satellite/venv/lib/python3.7/site-packages (from dataclasses-json->sentinelhub==3.2.1->-r ../requirements.txt (line 2)) (3.11.1)\n",
      "Requirement already satisfied: typing-inspect>=0.4.0 in /Users/utsavkumarjha/Desktop/self/code/satellite/venv/lib/python3.7/site-packages (from dataclasses-json->sentinelhub==3.2.1->-r ../requirements.txt (line 2)) (0.6.0)\n",
      "Requirement already satisfied: parso<0.9.0,>=0.8.0 in /Users/utsavkumarjha/Desktop/self/code/satellite/venv/lib/python3.7/site-packages (from jedi>=0.16->ipython->jupyterlab==3.0.14->-r ../requirements.txt (line 1)) (0.8.2)\n",
      "Requirement already satisfied: ptyprocess>=0.5 in /Users/utsavkumarjha/Desktop/self/code/satellite/venv/lib/python3.7/site-packages (from pexpect>4.3; sys_platform != \"win32\"->ipython->jupyterlab==3.0.14->-r ../requirements.txt (line 1)) (0.7.0)\n",
      "Requirement already satisfied: wcwidth in /Users/utsavkumarjha/Desktop/self/code/satellite/venv/lib/python3.7/site-packages (from prompt-toolkit!=3.0.0,!=3.0.1,<3.1.0,>=2.0.0->ipython->jupyterlab==3.0.14->-r ../requirements.txt (line 1)) (0.2.5)\n",
      "Requirement already satisfied: importlib-metadata; python_version < \"3.8\" in /Users/utsavkumarjha/Desktop/self/code/satellite/venv/lib/python3.7/site-packages (from jsonschema>=3.0.1->jupyterlab-server~=2.3->jupyterlab==3.0.14->-r ../requirements.txt (line 1)) (3.10.1)\n",
      "Requirement already satisfied: pyrsistent>=0.14.0 in /Users/utsavkumarjha/Desktop/self/code/satellite/venv/lib/python3.7/site-packages (from jsonschema>=3.0.1->jupyterlab-server~=2.3->jupyterlab==3.0.14->-r ../requirements.txt (line 1)) (0.17.3)\n",
      "Requirement already satisfied: cffi>=1.0.0 in /Users/utsavkumarjha/Desktop/self/code/satellite/venv/lib/python3.7/site-packages (from argon2-cffi->jupyter-server~=1.4->jupyterlab==3.0.14->-r ../requirements.txt (line 1)) (1.14.5)\n",
      "Requirement already satisfied: nest-asyncio>=1.5 in /Users/utsavkumarjha/Desktop/self/code/satellite/venv/lib/python3.7/site-packages (from jupyter-client>=6.1.1->jupyter-server~=1.4->jupyterlab==3.0.14->-r ../requirements.txt (line 1)) (1.5.1)\n",
      "Requirement already satisfied: entrypoints>=0.2.2 in /Users/utsavkumarjha/Desktop/self/code/satellite/venv/lib/python3.7/site-packages (from nbconvert->jupyter-server~=1.4->jupyterlab==3.0.14->-r ../requirements.txt (line 1)) (0.3)\n",
      "Requirement already satisfied: nbclient<0.6.0,>=0.5.0 in /Users/utsavkumarjha/Desktop/self/code/satellite/venv/lib/python3.7/site-packages (from nbconvert->jupyter-server~=1.4->jupyterlab==3.0.14->-r ../requirements.txt (line 1)) (0.5.3)\n",
      "Requirement already satisfied: pandocfilters>=1.4.1 in /Users/utsavkumarjha/Desktop/self/code/satellite/venv/lib/python3.7/site-packages (from nbconvert->jupyter-server~=1.4->jupyterlab==3.0.14->-r ../requirements.txt (line 1)) (1.4.3)\n",
      "Requirement already satisfied: testpath in /Users/utsavkumarjha/Desktop/self/code/satellite/venv/lib/python3.7/site-packages (from nbconvert->jupyter-server~=1.4->jupyterlab==3.0.14->-r ../requirements.txt (line 1)) (0.4.4)\n",
      "Requirement already satisfied: jupyterlab-pygments in /Users/utsavkumarjha/Desktop/self/code/satellite/venv/lib/python3.7/site-packages (from nbconvert->jupyter-server~=1.4->jupyterlab==3.0.14->-r ../requirements.txt (line 1)) (0.1.2)\n",
      "Requirement already satisfied: mistune<2,>=0.8.1 in /Users/utsavkumarjha/Desktop/self/code/satellite/venv/lib/python3.7/site-packages (from nbconvert->jupyter-server~=1.4->jupyterlab==3.0.14->-r ../requirements.txt (line 1)) (0.8.4)\n",
      "Requirement already satisfied: bleach in /Users/utsavkumarjha/Desktop/self/code/satellite/venv/lib/python3.7/site-packages (from nbconvert->jupyter-server~=1.4->jupyterlab==3.0.14->-r ../requirements.txt (line 1)) (3.3.0)\n",
      "Requirement already satisfied: defusedxml in /Users/utsavkumarjha/Desktop/self/code/satellite/venv/lib/python3.7/site-packages (from nbconvert->jupyter-server~=1.4->jupyterlab==3.0.14->-r ../requirements.txt (line 1)) (0.7.1)\n",
      "Requirement already satisfied: typing-extensions; python_version < \"3.8\" in /Users/utsavkumarjha/Desktop/self/code/satellite/venv/lib/python3.7/site-packages (from anyio>=2.0.2->jupyter-server~=1.4->jupyterlab==3.0.14->-r ../requirements.txt (line 1)) (3.7.4.3)\n",
      "Requirement already satisfied: sniffio>=1.1 in /Users/utsavkumarjha/Desktop/self/code/satellite/venv/lib/python3.7/site-packages (from anyio>=2.0.2->jupyter-server~=1.4->jupyterlab==3.0.14->-r ../requirements.txt (line 1)) (1.2.0)\n",
      "Requirement already satisfied: ipykernel in /Users/utsavkumarjha/Desktop/self/code/satellite/venv/lib/python3.7/site-packages (from notebook<7->nbclassic~=0.2->jupyterlab==3.0.14->-r ../requirements.txt (line 1)) (5.5.3)\n",
      "Requirement already satisfied: mypy-extensions>=0.3.0 in /Users/utsavkumarjha/Desktop/self/code/satellite/venv/lib/python3.7/site-packages (from typing-inspect>=0.4.0->dataclasses-json->sentinelhub==3.2.1->-r ../requirements.txt (line 2)) (0.4.3)\n",
      "Requirement already satisfied: zipp>=0.5 in /Users/utsavkumarjha/Desktop/self/code/satellite/venv/lib/python3.7/site-packages (from importlib-metadata; python_version < \"3.8\"->jsonschema>=3.0.1->jupyterlab-server~=2.3->jupyterlab==3.0.14->-r ../requirements.txt (line 1)) (3.4.1)\n",
      "Requirement already satisfied: pycparser in /Users/utsavkumarjha/Desktop/self/code/satellite/venv/lib/python3.7/site-packages (from cffi>=1.0.0->argon2-cffi->jupyter-server~=1.4->jupyterlab==3.0.14->-r ../requirements.txt (line 1)) (2.20)\n",
      "Requirement already satisfied: async-generator in /Users/utsavkumarjha/Desktop/self/code/satellite/venv/lib/python3.7/site-packages (from nbclient<0.6.0,>=0.5.0->nbconvert->jupyter-server~=1.4->jupyterlab==3.0.14->-r ../requirements.txt (line 1)) (1.10)\n",
      "Requirement already satisfied: webencodings in /Users/utsavkumarjha/Desktop/self/code/satellite/venv/lib/python3.7/site-packages (from bleach->nbconvert->jupyter-server~=1.4->jupyterlab==3.0.14->-r ../requirements.txt (line 1)) (0.5.1)\n",
      "\u001b[31mnetworkx 2.5.1 has requirement decorator<5,>=4.3, but you'll have decorator 5.0.7 which is incompatible.\u001b[0m\n",
      "\u001b[33mYou are using pip version 10.0.1, however version 21.0.1 is available.\n",
      "You should consider upgrading via the 'pip install --upgrade pip' command.\u001b[0m\n"
     ]
    }
   ],
   "source": [
    "import sys\n",
    "sys.path.append(\"../\")\n",
    "!{sys.executable} -m pip install -r ../requirements.txt"
   ]
  },
  {
   "cell_type": "code",
   "execution_count": 2,
   "id": "4123a347-d425-47d6-8a1f-3013925a9b12",
   "metadata": {},
   "outputs": [],
   "source": [
    "from ds_exploration.data_download import download_tiles"
   ]
  },
  {
   "cell_type": "markdown",
   "id": "2d4b1cb0-a492-45f4-94b5-00b779697df0",
   "metadata": {},
   "source": [
    "Register at https://scihub.copernicus.eu/dhus/#/home\n",
    "\n",
    "Then enter your credentials in a file .netrc in your user home directory in the following form:\n",
    "\n",
    "```\n",
    "machine scihub.copernicus.eu\n",
    "login <your username>\n",
    "password <your password>\n",
    "```"
   ]
  },
  {
   "cell_type": "markdown",
   "id": "637a3123-d74f-4d80-b99c-ce66d0f4aadb",
   "metadata": {},
   "source": [
    "## Tiles to download"
   ]
  },
  {
   "cell_type": "code",
   "execution_count": 4,
   "id": "d6e81c59-7627-4e8e-9549-6cdd390fe8b5",
   "metadata": {},
   "outputs": [],
   "source": [
    "labels = [\n",
    "    {'date': ('20200928', '20200930'), 'tile_name': '10SEH'},\n",
    "]"
   ]
  },
  {
   "cell_type": "code",
   "execution_count": null,
   "id": "93e9d13f-9b13-4aaf-8112-3b7321d31a6a",
   "metadata": {
    "tags": []
   },
   "outputs": [
    {
     "name": "stdout",
     "output_type": "stream",
     "text": [
      "Download tile name: 10SEH for 20200928, 20200930\n"
     ]
    },
    {
     "name": "stderr",
     "output_type": "stream",
     "text": [
      "Downloading:  89%|████████▉ | 318M/357M [01:16<00:24, 1.61MB/s]"
     ]
    }
   ],
   "source": [
    "d = download_tiles(labels[0:1], \"data\", None, None)"
   ]
  },
  {
   "cell_type": "code",
   "execution_count": null,
   "id": "476e1d6a-0a15-4bf2-aead-3a3d51e417c1",
   "metadata": {},
   "outputs": [],
   "source": [
    "d.memory_usage(deep=True)"
   ]
  }
 ],
 "metadata": {
  "kernelspec": {
   "display_name": "Python 3",
   "language": "python",
   "name": "python3"
  },
  "language_info": {
   "codemirror_mode": {
    "name": "ipython",
    "version": 3
   },
   "file_extension": ".py",
   "mimetype": "text/x-python",
   "name": "python",
   "nbconvert_exporter": "python",
   "pygments_lexer": "ipython3",
   "version": "3.7.1"
  }
 },
 "nbformat": 4,
 "nbformat_minor": 5
}
