{
 "cells": [
  {
   "cell_type": "code",
   "execution_count": 1,
   "id": "92eab82d-a624-4fed-8486-d6008ac081b9",
   "metadata": {},
   "outputs": [],
   "source": [
    "%load_ext autoreload\n",
    "%autoreload 2\n",
    "%matplotlib inline"
   ]
  },
  {
   "cell_type": "code",
   "execution_count": 2,
   "id": "ea276202-a3c8-4c1d-bd9f-e7bcded61e9c",
   "metadata": {},
   "outputs": [],
   "source": [
    "import sys\n",
    "sys.path.append(\"../\")"
   ]
  },
  {
   "cell_type": "code",
   "execution_count": 3,
   "id": "4123a347-d425-47d6-8a1f-3013925a9b12",
   "metadata": {},
   "outputs": [],
   "source": [
    "from ds_exploration.data_download import download_tiles"
   ]
  },
  {
   "cell_type": "markdown",
   "id": "2d4b1cb0-a492-45f4-94b5-00b779697df0",
   "metadata": {},
   "source": [
    "Register at https://scihub.copernicus.eu/dhus/#/home\n",
    "\n",
    "Then enter your credentials in a file .netrc in your user home directory in the following form:\n",
    "\n",
    "```\n",
    "machine scihub.copernicus.eu\n",
    "login <your username>\n",
    "password <your password>\n",
    "```"
   ]
  },
  {
   "cell_type": "code",
   "execution_count": 4,
   "id": "d6e81c59-7627-4e8e-9549-6cdd390fe8b5",
   "metadata": {},
   "outputs": [],
   "source": [
    "labels = [\n",
    "    {'date': ('20200928', '20200930'), 'tile_name': '10SEH'},\n",
    "    {'date': ('20201001', '20201009'), 'tile_name': '10TDK'},\n",
    "    {'date': ('20200928', '20200930'), 'tile_name': '10TDL'},\n",
    "    {'date': ('20200627', '20200629'), 'tile_name': '10SFG'},\n",
    "    {'date': ('20200714', '20200716'), 'tile_name': '10SGF'},\n",
    "    {'date': ('20200719', '20200721'), 'tile_name': '10SGF'},\n",
    "    {'date': ('20200722', '20200724'), 'tile_name': '10TFK'},\n",
    "    {'date': ('20200816', '20200818'), 'tile_name': '10TGK'},\n",
    "    {'date': ('20200722', '20200724'), 'tile_name': '10TFL'},\n",
    "    {'date': ('20200722', '20200724'), 'tile_name': '10TFM'},\n",
    "    {'date': ('20200909', '20200911'), 'tile_name': '11SMT'},\n",
    "    {'date': ('20200914', '20200916'), 'tile_name': '11SMT'},\n",
    "    {'date': ('20200909', '20200911'), 'tile_name': '11SMU'},\n",
    "    {'date': ('20200914', '20200916'), 'tile_name': '11SMU'},\n",
    "    {'date': ('20200902', '20200904'), 'tile_name': '11SLA'},\n",
    "    {'date': ('20200904', '20200906'), 'tile_name': '11SLA'},\n",
    "    {'date': ('20200907', '20200909'), 'tile_name': '11SLA'},\n",
    "    {'date': ('20200909', '20200911'), 'tile_name': '11SLA'},\n",
    "    {'date': ('20200912', '20200914'), 'tile_name': '11SLA'},\n",
    "    {'date': ('20200914', '20200916'), 'tile_name': '11SLA'},\n",
    "    {'date': ('20200917', '20200919'), 'tile_name': '11SLA'},\n",
    "    {'date': ('20200919', '20200921'), 'tile_name': '11SLA'},\n",
    "    {'date': ('20200922', '20200924'), 'tile_name': '11SLA'},\n",
    "    {'date': ('20200924', '20200926'), 'tile_name': '11SLA'},\n",
    "    {'date': ('20200927', '20200929'), 'tile_name': '11SLA'},\n",
    "    {'date': ('20200929', '20201001'), 'tile_name': '11SLA'},\n",
    "    {'date': ('20201002', '20201004'), 'tile_name': '11SLA'},\n",
    "    {'date': ('20201007', '20201009'), 'tile_name': '11SLA'},\n",
    "    {'date': ('20201009', '20201011'), 'tile_name': '11SLA'},\n",
    "    {'date': ('20201012', '20201014'), 'tile_name': '11SLA'},\n",
    "    {'date': ('20201014', '20201016'), 'tile_name': '11SLA'},\n",
    "    {'date': ('20201017', '20201019'), 'tile_name': '11SLA'},\n",
    "    {'date': ('20201019', '20201021'), 'tile_name': '11SLA'},\n",
    "    {'date': ('20201022', '20201024'), 'tile_name': '11SLA'},\n",
    "    {'date': ('20201024', '20201026'), 'tile_name': '11SLA'},\n",
    "    {'date': ('20201027', '20201029'), 'tile_name': '11SLA'},\n",
    "    {'date': ('20201029', '20201031'), 'tile_name': '11SLA'},\n",
    "    {'date': ('20201101', '20201103'), 'tile_name': '11SLA'},\n",
    "    {'date': ('20201103', '20201105'), 'tile_name': '11SLA'},\n",
    "    {'date': ('20200907', '20200909'), 'tile_name': '11SKB'},\n",
    "    {'date': ('20200912', '20200914'), 'tile_name': '11SKB'},\n",
    "    {'date': ('20200922', '20200924'), 'tile_name': '11SKB'},\n",
    "    {'date': ('20200927', '20200929'), 'tile_name': '11SKB'},\n",
    "    {'date': ('20201002', '20201004'), 'tile_name': '11SKB'},\n",
    "    {'date': ('20201012', '20201014'), 'tile_name': '11SKB'},\n",
    "    {'date': ('20200907', '20200909'), 'tile_name': '11SLB'},\n",
    "    {'date': ('20200912', '20200914'), 'tile_name': '11SLB'},\n",
    "    {'date': ('20200922', '20200924'), 'tile_name': '11SLB'},\n",
    "    {'date': ('20200927', '20200929'), 'tile_name': '11SLB'},\n",
    "    {'date': ('20201002', '20201004'), 'tile_name': '11SLB'},\n",
    "    {'date': ('20201012', '20201014'), 'tile_name': '11SLB'},\n",
    "    {'date': ('20201017', '20201019'), 'tile_name': '11SLB'},\n",
    "    {'date': ('20201022', '20201024'), 'tile_name': '11SLB'},\n",
    "    {'date': ('20201027', '20201029'), 'tile_name': '11SLB'},\n",
    "    {'date': ('20201101', '20201103'), 'tile_name': '11SLB'},\n",
    "    {'date': ('20200907', '20200909'), 'tile_name': '11SKB'},\n",
    "    {'date': ('20200912', '20200914'), 'tile_name': '11SKB'},\n",
    "    {'date': ('20200903', '20200905'), 'tile_name': '10TDK'},\n",
    "    {'date': ('20200908', '20200910'), 'tile_name': '10TDK'},\n",
    "    {'date': ('20200913', '20200915'), 'tile_name': '10TDK'},\n",
    "    {'date': ('20200918', '20200920'), 'tile_name': '10TDK'},\n",
    "    {'date': ('20200928', '20200930'), 'tile_name': '10TDK'},\n",
    "    {'date': ('20200903', '20200905'), 'tile_name': '10TDL'},\n",
    "    {'date': ('20200908', '20200910'), 'tile_name': '10TDL'},\n",
    "    {'date': ('20200913', '20200915'), 'tile_name': '10TDL'},\n",
    "    {'date': ('20200903', '20200904'), 'tile_name': '10TEK'},\n",
    "    {'date': ('20200905', '20200907'), 'tile_name': '10TEK'},\n",
    "    {'date': ('20200913', '20200915'), 'tile_name': '10TEK'},\n",
    "    {'date': ('20200924', '20200926'), 'tile_name': '10TEK'},\n",
    "    {'date': ('20200928', '20200930'), 'tile_name': '10TEK'},\n",
    "    {'date': ('20200910', '20200912'), 'tile_name': '10TFK'},\n",
    "    {'date': ('20200915', '20200917'), 'tile_name': '10TFK'},\n",
    "    {'date': ('20200903', '20200905'), 'tile_name': '10TEQ'},\n",
    "    {'date': ('20200908', '20200910'), 'tile_name': '10TEQ'},\n",
    "    {'date': ('20200913', '20200915'), 'tile_name': '10TEQ'},\n",
    "    {'date': ('20200903', '20200905'), 'tile_name': '10TFS'},\n",
    "    {'date': ('20200801', '20200802'), 'tile_name': '11SNT'},\n",
    "    {'date': ('20200803', '20200804'), 'tile_name': '11SNT'},\n",
    "    {'date': ('20200806', '20200807'), 'tile_name': '11SNT'},\n",
    "]"
   ]
  },
  {
   "cell_type": "code",
   "execution_count": 5,
   "id": "93e9d13f-9b13-4aaf-8112-3b7321d31a6a",
   "metadata": {
    "tags": []
   },
   "outputs": [
    {
     "name": "stdout",
     "output_type": "stream",
     "text": [
      "Download tile name: 10TFK for 20200722, 20200724, with filter None\n"
     ]
    },
    {
     "name": "stderr",
     "output_type": "stream",
     "text": [
      "Downloading: 100%|██████████| 860M/860M [03:58<00:00, 3.61MB/s] \n",
      "MD5 checksumming: 100%|██████████| 860M/860M [00:02<00:00, 370MB/s] \n"
     ]
    },
    {
     "name": "stdout",
     "output_type": "stream",
     "text": [
      "Downloaded 1 tiles, extracting and combining data\n",
      "Download tile name: 10TGK for 20200816, 20200818, with filter None\n"
     ]
    },
    {
     "name": "stderr",
     "output_type": "stream",
     "text": [
      "Downloading: 100%|██████████| 746M/746M [03:18<00:00, 3.76MB/s] \n",
      "MD5 checksumming: 100%|██████████| 746M/746M [00:01<00:00, 434MB/s] \n"
     ]
    },
    {
     "name": "stdout",
     "output_type": "stream",
     "text": [
      "Downloaded 1 tiles, extracting and combining data\n"
     ]
    }
   ],
   "source": [
    "d = download_tiles(labels[6:8], \"data\", None, None, nfilter=None)"
   ]
  },
  {
   "cell_type": "code",
   "execution_count": 6,
   "id": "476e1d6a-0a15-4bf2-aead-3a3d51e417c1",
   "metadata": {},
   "outputs": [
    {
     "data": {
      "text/plain": [
       "Index                   186\n",
       "title                   234\n",
       "date                     16\n",
       "footprint               515\n",
       "url                     310\n",
       "quicklook_url           354\n",
       "path                    252\n",
       "rgb              1446725088\n",
       "b12               120560656\n",
       "dtype: int64"
      ]
     },
     "execution_count": 6,
     "metadata": {},
     "output_type": "execute_result"
    }
   ],
   "source": [
    "d.memory_usage(deep=True)"
   ]
  },
  {
   "cell_type": "code",
   "execution_count": 7,
   "id": "912ccd3f-ea7b-4140-bac9-de287c602cdd",
   "metadata": {},
   "outputs": [
    {
     "name": "stdout",
     "output_type": "stream",
     "text": [
      "<class 'pandas.core.frame.DataFrame'>\n",
      "Index: 2 entries, 49e4e492-ab5c-4627-aacd-fd9aceaf3b07 to 7f7ed004-bd3e-4793-a8aa-b1b9b4691de2\n",
      "Data columns (total 8 columns):\n",
      " #   Column         Non-Null Count  Dtype         \n",
      "---  ------         --------------  -----         \n",
      " 0   title          2 non-null      object        \n",
      " 1   date           2 non-null      datetime64[ns]\n",
      " 2   footprint      2 non-null      object        \n",
      " 3   url            2 non-null      object        \n",
      " 4   quicklook_url  2 non-null      object        \n",
      " 5   path           2 non-null      object        \n",
      " 6   rgb            2 non-null      object        \n",
      " 7   b12            2 non-null      object        \n",
      "dtypes: datetime64[ns](1), object(7)\n",
      "memory usage: 144.0+ bytes\n"
     ]
    }
   ],
   "source": [
    "d.info()"
   ]
  },
  {
   "cell_type": "code",
   "execution_count": 9,
   "id": "6697e5a0-9e22-45b8-a3fc-5f6786fc4743",
   "metadata": {},
   "outputs": [
    {
     "data": {
      "text/plain": [
       "title            S2A_MSIL1C_20200723T184921_N0209_R113_T10TFK_2...\n",
       "date                                    2020-07-23 18:49:21.024000\n",
       "footprint        POLYGON((-121.81731 40.64479964997401,-120.519...\n",
       "url              https://scihub.copernicus.eu/dhus/odata/v1/Pro...\n",
       "quicklook_url    https://scihub.copernicus.eu/dhus/odata/v1/Pro...\n",
       "path             data/S2A_MSIL1C_20200723T184921_N0209_R113_T10...\n",
       "rgb              [[[563, 765, 842], [694, 827, 918], [558, 773,...\n",
       "b12              [[790, 776, 652, 562, 579, 689, 661, 576, 626,...\n",
       "Name: 49e4e492-ab5c-4627-aacd-fd9aceaf3b07, dtype: object"
      ]
     },
     "execution_count": 9,
     "metadata": {},
     "output_type": "execute_result"
    }
   ],
   "source": [
    "d.iloc[0]"
   ]
  },
  {
   "cell_type": "code",
   "execution_count": null,
   "id": "55427387-add3-4240-81ee-b9cfe65b37db",
   "metadata": {},
   "outputs": [],
   "source": []
  },
  {
   "cell_type": "code",
   "execution_count": null,
   "id": "7c03eb4b",
   "metadata": {},
   "outputs": [],
   "source": [
    "from skimage.util import view_as_blocks\n",
    "\n",
    "blocks = view_as_blocks(rgb, block_shape=(1098, 1098, 3))\n",
    "plot_image(blocks[1,1][0, :, :, :], factor=5/2e4, clip_range=(0,1), figsize=(5, 5))"
   ]
  },
  {
   "cell_type": "code",
   "execution_count": null,
   "id": "bf464a4d",
   "metadata": {
    "tags": []
   },
   "outputs": [],
   "source": [
    "from skimage.transform import rescale\n",
    "\n",
    "scaled = rescale(blocks[1,1][0, :, :, :] , scale=0.2, preserve_range=True, multichannel=True)\n",
    "print(scaled.shape, blocks[1,1][0, :, :, :].shape)\n",
    "plot_image(scaled, factor=5/2e4, clip_range=(0,1), figsize=(5, 5))"
   ]
  }
 ],
 "metadata": {
  "kernelspec": {
   "display_name": "Python 3",
   "language": "python",
   "name": "python3"
  },
  "language_info": {
   "codemirror_mode": {
    "name": "ipython",
    "version": 3
   },
   "file_extension": ".py",
   "mimetype": "text/x-python",
   "name": "python",
   "nbconvert_exporter": "python",
   "pygments_lexer": "ipython3",
   "version": "3.9.2"
  }
 },
 "nbformat": 4,
 "nbformat_minor": 5
}
