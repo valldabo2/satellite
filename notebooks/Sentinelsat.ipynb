{
 "cells": [
  {
   "cell_type": "code",
   "execution_count": 1,
   "id": "ea276202-a3c8-4c1d-bd9f-e7bcded61e9c",
   "metadata": {},
   "outputs": [],
   "source": [
    "import sys\n",
    "sys.path.append(\"../\")"
   ]
  },
  {
   "cell_type": "code",
   "execution_count": 2,
   "id": "4123a347-d425-47d6-8a1f-3013925a9b12",
   "metadata": {},
   "outputs": [],
   "source": [
    "from ds_exploration.data_download import download_tiles"
   ]
  },
  {
   "cell_type": "code",
   "execution_count": 3,
   "id": "88121602-8974-4cbd-9f78-e73fc8305243",
   "metadata": {},
   "outputs": [],
   "source": [
    "# register at https://scihub.copernicus.eu/dhus/#/home\n",
    "user = ''\n",
    "password = ''"
   ]
  },
  {
   "cell_type": "code",
   "execution_count": 4,
   "id": "2e555a47-497c-47ea-a13b-6d235d6767fc",
   "metadata": {
    "tags": []
   },
   "outputs": [],
   "source": [
    "list_of_tiles = [\n",
    "    {'tile_name': \"10SEH\", 'date': ('20200928', '20200930')},\n",
    "    {'tile_name': \"10TDK\", 'date': ('20201004', '20201009')},\n",
    "    {'tile_name': \"10TDL\", 'date': ('20200928', '20200930')},\n",
    "]"
   ]
  },
  {
   "cell_type": "code",
   "execution_count": null,
   "id": "93e9d13f-9b13-4aaf-8112-3b7321d31a6a",
   "metadata": {
    "tags": []
   },
   "outputs": [
    {
     "name": "stdout",
     "output_type": "stream",
     "text": [
      "Download tile name: 10SEH for 20200928, 20200930, with filter None\n"
     ]
    },
    {
     "name": "stderr",
     "output_type": "stream",
     "text": [
      "Downloading:  27%|██▋       | 95.4M/357M [00:26<02:27, 1.78MB/s]"
     ]
    }
   ],
   "source": [
    "download_tiles(list_of_tiles, \"data\", user, password, nfilter=None)"
   ]
  },
  {
   "cell_type": "code",
   "execution_count": null,
   "id": "7c03eb4b",
   "metadata": {},
   "outputs": [],
   "source": [
    "from skimage.util import view_as_blocks\n",
    "\n",
    "blocks = view_as_blocks(rgb, block_shape=(1098, 1098, 3))\n",
    "plot_image(blocks[1,1][0, :, :, :], factor=5/2e4, clip_range=(0,1), figsize=(5, 5))"
   ]
  },
  {
   "cell_type": "code",
   "execution_count": null,
   "id": "bf464a4d",
   "metadata": {
    "tags": []
   },
   "outputs": [],
   "source": [
    "from skimage.transform import rescale\n",
    "\n",
    "scaled = rescale(blocks[1,1][0, :, :, :] , scale=0.2, preserve_range=True, multichannel=True)\n",
    "print(scaled.shape, blocks[1,1][0, :, :, :].shape)\n",
    "plot_image(scaled, factor=5/2e4, clip_range=(0,1), figsize=(5, 5))"
   ]
  }
 ],
 "metadata": {
  "kernelspec": {
   "display_name": "Python 3",
   "language": "python",
   "name": "python3"
  },
  "language_info": {
   "codemirror_mode": {
    "name": "ipython",
    "version": 3
   },
   "file_extension": ".py",
   "mimetype": "text/x-python",
   "name": "python",
   "nbconvert_exporter": "python",
   "pygments_lexer": "ipython3",
   "version": "3.9.2"
  }
 },
 "nbformat": 4,
 "nbformat_minor": 5
}
