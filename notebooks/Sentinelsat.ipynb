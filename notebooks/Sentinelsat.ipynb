{
 "cells": [
  {
   "cell_type": "code",
   "execution_count": 1,
   "id": "92eab82d-a624-4fed-8486-d6008ac081b9",
   "metadata": {},
   "outputs": [],
   "source": [
    "%load_ext autoreload\n",
    "%autoreload 2\n",
    "%matplotlib inline"
   ]
  },
  {
   "cell_type": "code",
   "execution_count": 2,
   "id": "ea276202-a3c8-4c1d-bd9f-e7bcded61e9c",
   "metadata": {
    "collapsed": true,
    "jupyter": {
     "outputs_hidden": true
    },
    "tags": [
     "outputPrepend"
    ]
   },
   "outputs": [
    {
     "output_type": "stream",
     "name": "stdout",
     "text": [
      "n3.7/site-packages (from -r ../requirements.txt (line 7)) (0.18.1)\n",
      "Collecting pandas==1.2.4\n",
      "  Downloading pandas-1.2.4-cp37-cp37m-manylinux1_x86_64.whl (9.9 MB)\n",
      "\u001b[K     |████████████████████████████████| 9.9 MB 7.0 MB/s \n",
      "\u001b[?25hCollecting jupyterlab-server~=2.3\n",
      "  Downloading jupyterlab_server-2.4.0-py3-none-any.whl (45 kB)\n",
      "\u001b[K     |████████████████████████████████| 45 kB 2.4 MB/s \n",
      "\u001b[?25hCollecting jupyter-server~=1.4\n",
      "  Downloading jupyter_server-1.6.1-py3-none-any.whl (375 kB)\n",
      "\u001b[K     |████████████████████████████████| 375 kB 17.1 MB/s \n",
      "\u001b[?25hRequirement already satisfied: tornado>=6.1.0 in /home/fghavamian/miniconda3/envs/dsenv/lib/python3.7/site-packages (from jupyterlab==3.0.14->-r ../requirements.txt (line 1)) (6.1)\n",
      "Collecting nbclassic~=0.2\n",
      "  Downloading nbclassic-0.2.7-py3-none-any.whl (18 kB)\n",
      "Requirement already satisfied: ipython in /home/fghavamian/miniconda3/envs/dsenv/lib/python3.7/site-packages (from jupyterlab==3.0.14->-r ../requirements.txt (line 1)) (7.22.0)\n",
      "Requirement already satisfied: packaging in /home/fghavamian/miniconda3/envs/dsenv/lib/python3.7/site-packages (from jupyterlab==3.0.14->-r ../requirements.txt (line 1)) (20.9)\n",
      "Requirement already satisfied: jupyter-core in /home/fghavamian/miniconda3/envs/dsenv/lib/python3.7/site-packages (from jupyterlab==3.0.14->-r ../requirements.txt (line 1)) (4.7.1)\n",
      "Requirement already satisfied: jinja2>=2.10 in /home/fghavamian/miniconda3/envs/dsenv/lib/python3.7/site-packages (from jupyterlab==3.0.14->-r ../requirements.txt (line 1)) (2.11.3)\n",
      "Collecting jupyter-packaging~=0.7\n",
      "  Downloading jupyter_packaging-0.9.1-py2.py3-none-any.whl (13 kB)\n",
      "Requirement already satisfied: kiwisolver>=1.0.1 in /home/fghavamian/miniconda3/envs/dsenv/lib/python3.7/site-packages (from matplotlib==3.4.1->-r ../requirements.txt (line 6)) (1.3.1)\n",
      "Requirement already satisfied: numpy>=1.16 in /home/fghavamian/miniconda3/envs/dsenv/lib/python3.7/site-packages (from matplotlib==3.4.1->-r ../requirements.txt (line 6)) (1.19.2)\n",
      "Requirement already satisfied: python-dateutil>=2.7 in /home/fghavamian/miniconda3/envs/dsenv/lib/python3.7/site-packages (from matplotlib==3.4.1->-r ../requirements.txt (line 6)) (2.8.1)\n",
      "Requirement already satisfied: pillow>=6.2.0 in /home/fghavamian/miniconda3/envs/dsenv/lib/python3.7/site-packages (from matplotlib==3.4.1->-r ../requirements.txt (line 6)) (8.1.2)\n",
      "Requirement already satisfied: cycler>=0.10 in /home/fghavamian/miniconda3/envs/dsenv/lib/python3.7/site-packages (from matplotlib==3.4.1->-r ../requirements.txt (line 6)) (0.10.0)\n",
      "Requirement already satisfied: pyparsing>=2.2.1 in /home/fghavamian/miniconda3/envs/dsenv/lib/python3.7/site-packages (from matplotlib==3.4.1->-r ../requirements.txt (line 6)) (2.4.7)\n",
      "Requirement already satisfied: pytz>=2017.3 in /home/fghavamian/miniconda3/envs/dsenv/lib/python3.7/site-packages (from pandas==1.2.4->-r ../requirements.txt (line 8)) (2021.1)\n",
      "Requirement already satisfied: snuggs>=1.4.1 in /home/fghavamian/miniconda3/envs/dsenv/lib/python3.7/site-packages (from rasterio==1.2.2->-r ../requirements.txt (line 5)) (1.4.7)\n",
      "Requirement already satisfied: click<8,>=4.0 in /home/fghavamian/miniconda3/envs/dsenv/lib/python3.7/site-packages (from rasterio==1.2.2->-r ../requirements.txt (line 5)) (7.1.2)\n",
      "Requirement already satisfied: click-plugins in /home/fghavamian/miniconda3/envs/dsenv/lib/python3.7/site-packages (from rasterio==1.2.2->-r ../requirements.txt (line 5)) (1.1.1)\n",
      "Requirement already satisfied: affine in /home/fghavamian/miniconda3/envs/dsenv/lib/python3.7/site-packages (from rasterio==1.2.2->-r ../requirements.txt (line 5)) (2.3.0)\n",
      "Requirement already satisfied: attrs in /home/fghavamian/miniconda3/envs/dsenv/lib/python3.7/site-packages (from rasterio==1.2.2->-r ../requirements.txt (line 5)) (20.3.0)\n",
      "Requirement already satisfied: certifi in /home/fghavamian/miniconda3/envs/dsenv/lib/python3.7/site-packages (from rasterio==1.2.2->-r ../requirements.txt (line 5)) (2020.12.5)\n",
      "Requirement already satisfied: cligj>=0.5 in /home/fghavamian/miniconda3/envs/dsenv/lib/python3.7/site-packages (from rasterio==1.2.2->-r ../requirements.txt (line 5)) (0.7.1)\n",
      "Requirement already satisfied: scipy>=1.0.1 in /home/fghavamian/miniconda3/envs/dsenv/lib/python3.7/site-packages (from scikit-image==0.18.1->-r ../requirements.txt (line 7)) (1.6.2)\n",
      "Requirement already satisfied: networkx>=2.0 in /home/fghavamian/miniconda3/envs/dsenv/lib/python3.7/site-packages (from scikit-image==0.18.1->-r ../requirements.txt (line 7)) (2.2)\n",
      "Requirement already satisfied: imageio>=2.3.0 in /home/fghavamian/miniconda3/envs/dsenv/lib/python3.7/site-packages (from scikit-image==0.18.1->-r ../requirements.txt (line 7)) (2.9.0)\n",
      "Requirement already satisfied: tifffile>=2019.7.26 in /home/fghavamian/miniconda3/envs/dsenv/lib/python3.7/site-packages (from scikit-image==0.18.1->-r ../requirements.txt (line 7)) (2020.10.1)\n",
      "Requirement already satisfied: PyWavelets>=1.1.1 in /home/fghavamian/miniconda3/envs/dsenv/lib/python3.7/site-packages (from scikit-image==0.18.1->-r ../requirements.txt (line 7)) (1.1.1)\n",
      "Requirement already satisfied: wheel in /home/fghavamian/miniconda3/envs/dsenv/lib/python3.7/site-packages (from sentinelhub==3.2.1->-r ../requirements.txt (line 2)) (0.36.2)\n",
      "Requirement already satisfied: requests>=2.5.0 in /home/fghavamian/miniconda3/envs/dsenv/lib/python3.7/site-packages (from sentinelhub==3.2.1->-r ../requirements.txt (line 2)) (2.25.1)\n",
      "Collecting utm\n",
      "  Downloading utm-0.7.0.tar.gz (8.7 kB)\n",
      "Requirement already satisfied: shapely in /home/fghavamian/miniconda3/envs/dsenv/lib/python3.7/site-packages (from sentinelhub==3.2.1->-r ../requirements.txt (line 2)) (1.7.1)\n",
      "Collecting boto3\n",
      "  Downloading boto3-1.17.51-py2.py3-none-any.whl (131 kB)\n",
      "\u001b[K     |████████████████████████████████| 131 kB 2.8 MB/s \n",
      "\u001b[?25hCollecting botocore\n",
      "  Downloading botocore-1.20.51-py2.py3-none-any.whl (7.4 MB)\n",
      "\u001b[K     |████████████████████████████████| 7.4 MB 1.2 MB/s \n",
      "\u001b[?25hRequirement already satisfied: pyproj>=2.2.0 in /home/fghavamian/miniconda3/envs/dsenv/lib/python3.7/site-packages (from sentinelhub==3.2.1->-r ../requirements.txt (line 2)) (2.6.1.post1)\n",
      "Requirement already satisfied: oauthlib in /home/fghavamian/miniconda3/envs/dsenv/lib/python3.7/site-packages (from sentinelhub==3.2.1->-r ../requirements.txt (line 2)) (3.1.0)\n",
      "Requirement already satisfied: requests_oauthlib in /home/fghavamian/miniconda3/envs/dsenv/lib/python3.7/site-packages (from sentinelhub==3.2.1->-r ../requirements.txt (line 2)) (1.3.0)\n",
      "Collecting aenum>=2.1.4\n",
      "  Downloading aenum-3.0.0-py3-none-any.whl (47 kB)\n",
      "\u001b[K     |████████████████████████████████| 47 kB 2.6 MB/s \n",
      "\u001b[?25hCollecting dataclasses-json\n",
      "  Downloading dataclasses_json-0.5.2-py3-none-any.whl (23 kB)\n",
      "Requirement already satisfied: six in /home/fghavamian/miniconda3/envs/dsenv/lib/python3.7/site-packages (from cycler>=0.10->matplotlib==3.4.1->-r ../requirements.txt (line 6)) (1.15.0)\n",
      "Requirement already satisfied: MarkupSafe>=0.23 in /home/fghavamian/miniconda3/envs/dsenv/lib/python3.7/site-packages (from jinja2>=2.10->jupyterlab==3.0.14->-r ../requirements.txt (line 1)) (1.1.1)\n",
      "Requirement already satisfied: setuptools>=49.4.0 in /home/fghavamian/miniconda3/envs/dsenv/lib/python3.7/site-packages (from jupyter-packaging~=0.7->jupyterlab==3.0.14->-r ../requirements.txt (line 1)) (52.0.0.post20210125)\n",
      "Collecting tomlkit\n",
      "  Downloading tomlkit-0.7.0-py2.py3-none-any.whl (32 kB)\n",
      "Collecting deprecation\n",
      "  Downloading deprecation-2.1.0-py2.py3-none-any.whl (11 kB)\n",
      "Requirement already satisfied: traitlets>=4.2.1 in /home/fghavamian/miniconda3/envs/dsenv/lib/python3.7/site-packages (from jupyter-server~=1.4->jupyterlab==3.0.14->-r ../requirements.txt (line 1)) (5.0.5)\n",
      "Requirement already satisfied: pyzmq>=17 in /home/fghavamian/miniconda3/envs/dsenv/lib/python3.7/site-packages (from jupyter-server~=1.4->jupyterlab==3.0.14->-r ../requirements.txt (line 1)) (22.0.3)\n",
      "Requirement already satisfied: terminado>=0.8.3 in /home/fghavamian/miniconda3/envs/dsenv/lib/python3.7/site-packages (from jupyter-server~=1.4->jupyterlab==3.0.14->-r ../requirements.txt (line 1)) (0.9.4)\n",
      "Requirement already satisfied: prometheus-client in /home/fghavamian/miniconda3/envs/dsenv/lib/python3.7/site-packages (from jupyter-server~=1.4->jupyterlab==3.0.14->-r ../requirements.txt (line 1)) (0.9.0)\n",
      "Requirement already satisfied: ipython-genutils in /home/fghavamian/miniconda3/envs/dsenv/lib/python3.7/site-packages (from jupyter-server~=1.4->jupyterlab==3.0.14->-r ../requirements.txt (line 1)) (0.2.0)\n",
      "Requirement already satisfied: nbconvert in /home/fghavamian/miniconda3/envs/dsenv/lib/python3.7/site-packages (from jupyter-server~=1.4->jupyterlab==3.0.14->-r ../requirements.txt (line 1)) (5.6.1)\n",
      "Requirement already satisfied: jupyter-client>=6.1.1 in /home/fghavamian/miniconda3/envs/dsenv/lib/python3.7/site-packages (from jupyter-server~=1.4->jupyterlab==3.0.14->-r ../requirements.txt (line 1)) (6.1.12)\n",
      "Requirement already satisfied: Send2Trash in /home/fghavamian/miniconda3/envs/dsenv/lib/python3.7/site-packages (from jupyter-server~=1.4->jupyterlab==3.0.14->-r ../requirements.txt (line 1)) (1.5.0)\n",
      "Requirement already satisfied: argon2-cffi in /home/fghavamian/miniconda3/envs/dsenv/lib/python3.7/site-packages (from jupyter-server~=1.4->jupyterlab==3.0.14->-r ../requirements.txt (line 1)) (20.1.0)\n",
      "Collecting anyio>=2.0.2\n",
      "  Downloading anyio-2.2.0-py3-none-any.whl (65 kB)\n",
      "\u001b[K     |████████████████████████████████| 65 kB 4.4 MB/s \n",
      "\u001b[?25hRequirement already satisfied: nbformat in /home/fghavamian/miniconda3/envs/dsenv/lib/python3.7/site-packages (from jupyter-server~=1.4->jupyterlab==3.0.14->-r ../requirements.txt (line 1)) (5.1.2)\n",
      "Collecting sniffio>=1.1\n",
      "  Downloading sniffio-1.2.0-py3-none-any.whl (10 kB)\n",
      "Requirement already satisfied: idna>=2.8 in /home/fghavamian/miniconda3/envs/dsenv/lib/python3.7/site-packages (from anyio>=2.0.2->jupyter-server~=1.4->jupyterlab==3.0.14->-r ../requirements.txt (line 1)) (2.10)\n",
      "Requirement already satisfied: typing-extensions in /home/fghavamian/miniconda3/envs/dsenv/lib/python3.7/site-packages (from anyio>=2.0.2->jupyter-server~=1.4->jupyterlab==3.0.14->-r ../requirements.txt (line 1)) (3.7.4.3)\n",
      "Requirement already satisfied: jsonschema>=3.0.1 in /home/fghavamian/miniconda3/envs/dsenv/lib/python3.7/site-packages (from jupyterlab-server~=2.3->jupyterlab==3.0.14->-r ../requirements.txt (line 1)) (3.2.0)\n",
      "Collecting json5\n",
      "  Downloading json5-0.9.5-py2.py3-none-any.whl (17 kB)\n",
      "Collecting babel\n",
      "  Downloading Babel-2.9.0-py2.py3-none-any.whl (8.8 MB)\n",
      "\u001b[K     |████████████████████████████████| 8.8 MB 27.7 MB/s \n",
      "\u001b[?25hRequirement already satisfied: pyrsistent>=0.14.0 in /home/fghavamian/miniconda3/envs/dsenv/lib/python3.7/site-packages (from jsonschema>=3.0.1->jupyterlab-server~=2.3->jupyterlab==3.0.14->-r ../requirements.txt (line 1)) (0.17.3)\n",
      "Requirement already satisfied: importlib-metadata in /home/fghavamian/miniconda3/envs/dsenv/lib/python3.7/site-packages (from jsonschema>=3.0.1->jupyterlab-server~=2.3->jupyterlab==3.0.14->-r ../requirements.txt (line 1)) (3.7.3)\n",
      "Requirement already satisfied: notebook<7 in /home/fghavamian/miniconda3/envs/dsenv/lib/python3.7/site-packages (from nbclassic~=0.2->jupyterlab==3.0.14->-r ../requirements.txt (line 1)) (6.3.0)\n",
      "Requirement already satisfied: decorator>=4.3.0 in /home/fghavamian/miniconda3/envs/dsenv/lib/python3.7/site-packages (from networkx>=2.0->scikit-image==0.18.1->-r ../requirements.txt (line 7)) (5.0.6)\n",
      "Requirement already satisfied: ipykernel in /home/fghavamian/miniconda3/envs/dsenv/lib/python3.7/site-packages (from notebook<7->nbclassic~=0.2->jupyterlab==3.0.14->-r ../requirements.txt (line 1)) (5.5.3)\n",
      "Requirement already satisfied: urllib3<1.27,>=1.21.1 in /home/fghavamian/miniconda3/envs/dsenv/lib/python3.7/site-packages (from requests>=2.5.0->sentinelhub==3.2.1->-r ../requirements.txt (line 2)) (1.26.4)\n",
      "Requirement already satisfied: chardet<5,>=3.0.2 in /home/fghavamian/miniconda3/envs/dsenv/lib/python3.7/site-packages (from requests>=2.5.0->sentinelhub==3.2.1->-r ../requirements.txt (line 2)) (4.0.0)\n",
      "Requirement already satisfied: ptyprocess in /home/fghavamian/miniconda3/envs/dsenv/lib/python3.7/site-packages (from terminado>=0.8.3->jupyter-server~=1.4->jupyterlab==3.0.14->-r ../requirements.txt (line 1)) (0.7.0)\n",
      "Requirement already satisfied: geojson>=2 in /home/fghavamian/miniconda3/envs/dsenv/lib/python3.7/site-packages (from sentinelsat->-r ../requirements.txt (line 3)) (2.5.0)\n",
      "Requirement already satisfied: tqdm in /home/fghavamian/miniconda3/envs/dsenv/lib/python3.7/site-packages (from sentinelsat->-r ../requirements.txt (line 3)) (4.59.0)\n",
      "Requirement already satisfied: html2text in /home/fghavamian/miniconda3/envs/dsenv/lib/python3.7/site-packages (from sentinelsat->-r ../requirements.txt (line 3)) (2020.1.16)\n",
      "Requirement already satisfied: geomet in /home/fghavamian/miniconda3/envs/dsenv/lib/python3.7/site-packages (from sentinelsat->-r ../requirements.txt (line 3)) (0.3.0)\n",
      "Requirement already satisfied: cffi>=1.0.0 in /home/fghavamian/miniconda3/envs/dsenv/lib/python3.7/site-packages (from argon2-cffi->jupyter-server~=1.4->jupyterlab==3.0.14->-r ../requirements.txt (line 1)) (1.14.0)\n",
      "Requirement already satisfied: pycparser in /home/fghavamian/miniconda3/envs/dsenv/lib/python3.7/site-packages (from cffi>=1.0.0->argon2-cffi->jupyter-server~=1.4->jupyterlab==3.0.14->-r ../requirements.txt (line 1)) (2.20)\n",
      "Collecting jmespath<1.0.0,>=0.7.1\n",
      "  Downloading jmespath-0.10.0-py2.py3-none-any.whl (24 kB)\n",
      "Collecting s3transfer<0.4.0,>=0.3.0\n",
      "  Downloading s3transfer-0.3.7-py2.py3-none-any.whl (73 kB)\n",
      "\u001b[K     |████████████████████████████████| 73 kB 2.4 MB/s \n",
      "\u001b[?25hCollecting stringcase<2.0.0,==1.2.0\n",
      "  Downloading stringcase-1.2.0.tar.gz (3.0 kB)\n",
      "Collecting typing-inspect>=0.4.0\n",
      "  Downloading typing_inspect-0.6.0-py3-none-any.whl (8.1 kB)\n",
      "Collecting marshmallow-enum<2.0.0,>=1.5.1\n",
      "  Downloading marshmallow_enum-1.5.1-py2.py3-none-any.whl (4.2 kB)\n",
      "Collecting marshmallow<4.0.0,>=3.3.0\n",
      "  Downloading marshmallow-3.11.1-py2.py3-none-any.whl (46 kB)\n",
      "\u001b[K     |████████████████████████████████| 46 kB 3.4 MB/s \n",
      "\u001b[?25hCollecting mypy-extensions>=0.3.0\n",
      "  Downloading mypy_extensions-0.4.3-py2.py3-none-any.whl (4.5 kB)\n",
      "Requirement already satisfied: zipp>=0.5 in /home/fghavamian/miniconda3/envs/dsenv/lib/python3.7/site-packages (from importlib-metadata->jsonschema>=3.0.1->jupyterlab-server~=2.3->jupyterlab==3.0.14->-r ../requirements.txt (line 1)) (3.4.1)\n",
      "Requirement already satisfied: pickleshare in /home/fghavamian/miniconda3/envs/dsenv/lib/python3.7/site-packages (from ipython->jupyterlab==3.0.14->-r ../requirements.txt (line 1)) (0.7.5)\n",
      "Requirement already satisfied: backcall in /home/fghavamian/miniconda3/envs/dsenv/lib/python3.7/site-packages (from ipython->jupyterlab==3.0.14->-r ../requirements.txt (line 1)) (0.2.0)\n",
      "Requirement already satisfied: jedi>=0.16 in /home/fghavamian/miniconda3/envs/dsenv/lib/python3.7/site-packages (from ipython->jupyterlab==3.0.14->-r ../requirements.txt (line 1)) (0.18.0)\n",
      "Requirement already satisfied: prompt-toolkit!=3.0.0,!=3.0.1,<3.1.0,>=2.0.0 in /home/fghavamian/miniconda3/envs/dsenv/lib/python3.7/site-packages (from ipython->jupyterlab==3.0.14->-r ../requirements.txt (line 1)) (3.0.17)\n",
      "Requirement already satisfied: pexpect>4.3 in /home/fghavamian/miniconda3/envs/dsenv/lib/python3.7/site-packages (from ipython->jupyterlab==3.0.14->-r ../requirements.txt (line 1)) (4.8.0)\n",
      "Requirement already satisfied: pygments in /home/fghavamian/miniconda3/envs/dsenv/lib/python3.7/site-packages (from ipython->jupyterlab==3.0.14->-r ../requirements.txt (line 1)) (2.8.1)\n",
      "Requirement already satisfied: parso<0.9.0,>=0.8.0 in /home/fghavamian/miniconda3/envs/dsenv/lib/python3.7/site-packages (from jedi>=0.16->ipython->jupyterlab==3.0.14->-r ../requirements.txt (line 1)) (0.8.2)\n",
      "Requirement already satisfied: wcwidth in /home/fghavamian/miniconda3/envs/dsenv/lib/python3.7/site-packages (from prompt-toolkit!=3.0.0,!=3.0.1,<3.1.0,>=2.0.0->ipython->jupyterlab==3.0.14->-r ../requirements.txt (line 1)) (0.2.5)\n",
      "Requirement already satisfied: pandocfilters>=1.4.1 in /home/fghavamian/miniconda3/envs/dsenv/lib/python3.7/site-packages (from nbconvert->jupyter-server~=1.4->jupyterlab==3.0.14->-r ../requirements.txt (line 1)) (1.4.3)\n",
      "Requirement already satisfied: mistune<2,>=0.8.1 in /home/fghavamian/miniconda3/envs/dsenv/lib/python3.7/site-packages (from nbconvert->jupyter-server~=1.4->jupyterlab==3.0.14->-r ../requirements.txt (line 1)) (0.8.4)\n",
      "Requirement already satisfied: defusedxml in /home/fghavamian/miniconda3/envs/dsenv/lib/python3.7/site-packages (from nbconvert->jupyter-server~=1.4->jupyterlab==3.0.14->-r ../requirements.txt (line 1)) (0.7.1)\n",
      "Requirement already satisfied: testpath in /home/fghavamian/miniconda3/envs/dsenv/lib/python3.7/site-packages (from nbconvert->jupyter-server~=1.4->jupyterlab==3.0.14->-r ../requirements.txt (line 1)) (0.4.4)\n",
      "Requirement already satisfied: bleach in /home/fghavamian/miniconda3/envs/dsenv/lib/python3.7/site-packages (from nbconvert->jupyter-server~=1.4->jupyterlab==3.0.14->-r ../requirements.txt (line 1)) (3.3.0)\n",
      "Requirement already satisfied: entrypoints>=0.2.2 in /home/fghavamian/miniconda3/envs/dsenv/lib/python3.7/site-packages (from nbconvert->jupyter-server~=1.4->jupyterlab==3.0.14->-r ../requirements.txt (line 1)) (0.3)\n",
      "Requirement already satisfied: webencodings in /home/fghavamian/miniconda3/envs/dsenv/lib/python3.7/site-packages (from bleach->nbconvert->jupyter-server~=1.4->jupyterlab==3.0.14->-r ../requirements.txt (line 1)) (0.5.1)\n",
      "Building wheels for collected packages: sentinelhub, stringcase, utm\n",
      "  Building wheel for sentinelhub (setup.py) ... \u001b[?25ldone\n",
      "\u001b[?25h  Created wheel for sentinelhub: filename=sentinelhub-3.2.1-py3-none-any.whl size=204928 sha256=c2d7f5e579fa03c10104b138cd17e1db3fa8ac2245e3c20c5db70e7bf7986c15\n",
      "  Stored in directory: /home/fghavamian/.cache/pip/wheels/6b/bf/e7/0c091f52342fbc807c0d3ef415e7b3345e40ff96cdad6469c1\n",
      "  Building wheel for stringcase (setup.py) ... \u001b[?25ldone\n",
      "\u001b[?25h  Created wheel for stringcase: filename=stringcase-1.2.0-py3-none-any.whl size=3576 sha256=fd83d518f7452651421720715978fa1b51449bc24dc241c7aeee5ff7af852c4f\n",
      "  Stored in directory: /home/fghavamian/.cache/pip/wheels/86/ab/a3/a8fa7e0a07e80f547e03468c03827f8257f7339327986faed1\n",
      "  Building wheel for utm (setup.py) ... \u001b[?25ldone\n",
      "\u001b[?25h  Created wheel for utm: filename=utm-0.7.0-py3-none-any.whl size=6093 sha256=26e4a217af22e42e679cfa45367053f953dbc804a4a829644adf3b0519e0b7eb\n",
      "  Stored in directory: /home/fghavamian/.cache/pip/wheels/a5/b0/12/7ee4fdb0f9fbb4157100bd02390436ed5d58ebfd3c6d6a0886\n",
      "Successfully built sentinelhub stringcase utm\n",
      "Installing collected packages: sniffio, jmespath, mypy-extensions, marshmallow, botocore, anyio, typing-inspect, tomlkit, stringcase, s3transfer, marshmallow-enum, jupyter-server, json5, deprecation, babel, utm, nbclassic, matplotlib, jupyterlab-server, jupyter-packaging, dataclasses-json, boto3, aenum, sentinelhub, rasterio, pandas, jupyterlab\n",
      "  Attempting uninstall: matplotlib\n",
      "    Found existing installation: matplotlib 3.3.4\n",
      "    Uninstalling matplotlib-3.3.4:\n",
      "      Successfully uninstalled matplotlib-3.3.4\n",
      "  Attempting uninstall: rasterio\n",
      "    Found existing installation: rasterio 1.1.0\n",
      "    Uninstalling rasterio-1.1.0:\n",
      "      Successfully uninstalled rasterio-1.1.0\n",
      "  Attempting uninstall: pandas\n",
      "    Found existing installation: pandas 1.2.3\n",
      "    Uninstalling pandas-1.2.3:\n",
      "      Successfully uninstalled pandas-1.2.3\n",
      "Successfully installed aenum-3.0.0 anyio-2.2.0 babel-2.9.0 boto3-1.17.51 botocore-1.20.51 dataclasses-json-0.5.2 deprecation-2.1.0 jmespath-0.10.0 json5-0.9.5 jupyter-packaging-0.9.1 jupyter-server-1.6.1 jupyterlab-3.0.14 jupyterlab-server-2.4.0 marshmallow-3.11.1 marshmallow-enum-1.5.1 matplotlib-3.4.1 mypy-extensions-0.4.3 nbclassic-0.2.7 pandas-1.2.4 rasterio-1.2.2 s3transfer-0.3.7 sentinelhub-3.2.1 sniffio-1.2.0 stringcase-1.2.0 tomlkit-0.7.0 typing-inspect-0.6.0 utm-0.7.0\n"
     ]
    }
   ],
   "source": [
    "import sys\n",
    "sys.path.append(\"../\")\n",
    "!{sys.executable} -m pip install -r ../requirements.txt"
   ]
  },
  {
   "cell_type": "code",
   "execution_count": 15,
   "id": "4123a347-d425-47d6-8a1f-3013925a9b12",
   "metadata": {
    "tags": []
   },
   "outputs": [],
   "source": [
    "from ds_exploration.data_download import download_tiles, process_products"
   ]
  },
  {
   "cell_type": "markdown",
   "id": "2d4b1cb0-a492-45f4-94b5-00b779697df0",
   "metadata": {},
   "source": [
    "Register at https://scihub.copernicus.eu/dhus/#/home\n",
    "\n",
    "Then enter your credentials in a file .netrc in your user home directory in the following form:\n",
    "\n",
    "```\n",
    "machine scihub.copernicus.eu\n",
    "login <your username>\n",
    "password <your password>\n",
    "\n",
    "login utsavjha\n",
    "password abcdefgh\n",
    "```"
   ]
  },
  {
   "cell_type": "markdown",
   "id": "637a3123-d74f-4d80-b99c-ce66d0f4aadb",
   "metadata": {},
   "source": [
    "## Tiles to download"
   ]
  },
  {
   "cell_type": "code",
   "execution_count": 8,
   "id": "d6e81c59-7627-4e8e-9549-6cdd390fe8b5",
   "metadata": {},
   "outputs": [],
   "source": [
    "labels = [\n",
    "    {'date': ('20200928', '20200930'), 'tile_name': '10SEH'},\n",
    "]"
   ]
  },
  {
   "cell_type": "code",
   "execution_count": 12,
   "id": "93e9d13f-9b13-4aaf-8112-3b7321d31a6a",
   "metadata": {
    "tags": []
   },
   "outputs": [
    {
     "output_type": "stream",
     "name": "stdout",
     "text": [
      "Download tile name: 10SEH for 20200928, 20200930\n",
      "Downloading: 100%|██████████| 357M/357M [00:58<00:00, 6.14MB/s]\n",
      "MD5 checksumming: 100%|██████████| 357M/357M [00:00<00:00, 566MB/s]\n",
      "Downloaded 1 tiles, extracting and combining data\n",
      "Tile: Pandas(Index='f060901c-8bf6-47c4-be2f-fd7a253e7a91', title='S2B_MSIL1C_20200929T190109_N0209_R013_T10SEH_20200929T213343', date=Timestamp('2020-09-29 19:01:09.024000'), footprint='POLYGON((-122.24843 38.84492814517761,-122.280365 38.75319183686564,-122.33087 38.60676360025349,-122.3802 38.46006574089602,-122.43063 38.3136854644201,-122.47995 38.16713621610586,-122.50545 38.091306414180686,-122.52957 38.019766740690606,-122.579285 37.87332519483883,-122.58467 37.85724036165807,-123.00023 37.85944195932729,-123.00023 38.848998483821255,-122.24843 38.84492814517761))', url=\"https://scihub.copernicus.eu/dhus/odata/v1/Products('f060901c-8bf6-47c4-be2f-fd7a253e7a91')/$value\", path='data/S2B_MSIL1C_20200929T190109_N0209_R013_T10SEH_20200929T213343.zip')\n"
     ]
    },
    {
     "output_type": "error",
     "ename": "TypeError",
     "evalue": "glob() takes 1 positional argument but 3 were given",
     "traceback": [
      "\u001b[0;31m---------------------------------------------------------------------------\u001b[0m",
      "\u001b[0;31mTypeError\u001b[0m                                 Traceback (most recent call last)",
      "\u001b[0;32m<ipython-input-12-39e064e13a8a>\u001b[0m in \u001b[0;36m<module>\u001b[0;34m\u001b[0m\n\u001b[0;32m----> 1\u001b[0;31m \u001b[0md\u001b[0m \u001b[0;34m=\u001b[0m \u001b[0mdownload_tiles\u001b[0m\u001b[0;34m(\u001b[0m\u001b[0mlabels\u001b[0m\u001b[0;34m[\u001b[0m\u001b[0;36m0\u001b[0m\u001b[0;34m:\u001b[0m\u001b[0;36m1\u001b[0m\u001b[0;34m]\u001b[0m\u001b[0;34m,\u001b[0m \u001b[0;34m\"data\"\u001b[0m\u001b[0;34m,\u001b[0m \u001b[0;34m'utsavjha'\u001b[0m\u001b[0;34m,\u001b[0m \u001b[0;34m'abcdefgh'\u001b[0m\u001b[0;34m)\u001b[0m\u001b[0;34m\u001b[0m\u001b[0;34m\u001b[0m\u001b[0m\n\u001b[0m",
      "\u001b[0;32m~/projects/satellite/ds_exploration/data_download.py\u001b[0m in \u001b[0;36mdownload_tiles\u001b[0;34m(list_of_tiles, output_folder, user, password, delete_unused)\u001b[0m\n\u001b[1;32m    155\u001b[0m     \u001b[0;32mfor\u001b[0m \u001b[0mtile\u001b[0m \u001b[0;32min\u001b[0m \u001b[0mlist_of_tiles\u001b[0m\u001b[0;34m:\u001b[0m\u001b[0;34m\u001b[0m\u001b[0;34m\u001b[0m\u001b[0m\n\u001b[1;32m    156\u001b[0m         \u001b[0mproducts\u001b[0m \u001b[0;34m=\u001b[0m \u001b[0mquery_and_download\u001b[0m\u001b[0;34m(\u001b[0m\u001b[0mtile\u001b[0m\u001b[0;34m,\u001b[0m \u001b[0mapi\u001b[0m\u001b[0;34m,\u001b[0m \u001b[0mcols\u001b[0m\u001b[0;34m,\u001b[0m \u001b[0moutput_folder\u001b[0m\u001b[0;34m)\u001b[0m\u001b[0;34m\u001b[0m\u001b[0;34m\u001b[0m\u001b[0m\n\u001b[0;32m--> 157\u001b[0;31m         \u001b[0mlayers_df\u001b[0m \u001b[0;34m=\u001b[0m \u001b[0mprocess_products\u001b[0m\u001b[0;34m(\u001b[0m\u001b[0mproducts\u001b[0m\u001b[0;34m,\u001b[0m \u001b[0moutput_folder\u001b[0m\u001b[0;34m,\u001b[0m \u001b[0mdelete_unused\u001b[0m\u001b[0;34m)\u001b[0m\u001b[0;34m\u001b[0m\u001b[0;34m\u001b[0m\u001b[0m\n\u001b[0m\u001b[1;32m    158\u001b[0m         \u001b[0mtiles_df\u001b[0m \u001b[0;34m=\u001b[0m \u001b[0mpd\u001b[0m\u001b[0;34m.\u001b[0m\u001b[0mconcat\u001b[0m\u001b[0;34m(\u001b[0m\u001b[0;34m[\u001b[0m\u001b[0mproducts\u001b[0m\u001b[0;34m,\u001b[0m \u001b[0mlayers_df\u001b[0m\u001b[0;34m]\u001b[0m\u001b[0;34m,\u001b[0m \u001b[0maxis\u001b[0m\u001b[0;34m=\u001b[0m\u001b[0;36m1\u001b[0m\u001b[0;34m)\u001b[0m\u001b[0;34m\u001b[0m\u001b[0;34m\u001b[0m\u001b[0m\n\u001b[1;32m    159\u001b[0m         \u001b[0mresults\u001b[0m\u001b[0;34m.\u001b[0m\u001b[0mappend\u001b[0m\u001b[0;34m(\u001b[0m\u001b[0mtiles_df\u001b[0m\u001b[0;34m)\u001b[0m\u001b[0;34m\u001b[0m\u001b[0;34m\u001b[0m\u001b[0m\n",
      "\u001b[0;32m~/projects/satellite/ds_exploration/data_download.py\u001b[0m in \u001b[0;36mprocess_products\u001b[0;34m(products, output_folder, delete_unused)\u001b[0m\n\u001b[1;32m    133\u001b[0m         \u001b[0mprint\u001b[0m\u001b[0;34m(\u001b[0m\u001b[0;34m\"Tile: {}\"\u001b[0m\u001b[0;34m.\u001b[0m\u001b[0mformat\u001b[0m\u001b[0;34m(\u001b[0m\u001b[0mtile\u001b[0m\u001b[0;34m)\u001b[0m\u001b[0;34m)\u001b[0m\u001b[0;34m\u001b[0m\u001b[0;34m\u001b[0m\u001b[0m\n\u001b[1;32m    134\u001b[0m         \u001b[0;31m# print(\"FName: {}\".format(tile['filename']))\u001b[0m\u001b[0;34m\u001b[0m\u001b[0;34m\u001b[0m\u001b[0;34m\u001b[0m\u001b[0m\n\u001b[0;32m--> 135\u001b[0;31m         \u001b[0mlayers\u001b[0m\u001b[0;34m.\u001b[0m\u001b[0mappend\u001b[0m\u001b[0;34m(\u001b[0m\u001b[0mextract_data_from_tile\u001b[0m\u001b[0;34m(\u001b[0m\u001b[0mtile\u001b[0m\u001b[0;34m,\u001b[0m \u001b[0moutput_folder\u001b[0m\u001b[0;34m,\u001b[0m \u001b[0mdelete_unused\u001b[0m\u001b[0;34m)\u001b[0m\u001b[0;34m)\u001b[0m\u001b[0;34m\u001b[0m\u001b[0;34m\u001b[0m\u001b[0m\n\u001b[0m\u001b[1;32m    136\u001b[0m     return pd.DataFrame.from_records(\n\u001b[1;32m    137\u001b[0m         \u001b[0mlayers\u001b[0m\u001b[0;34m,\u001b[0m \u001b[0mcolumns\u001b[0m\u001b[0;34m=\u001b[0m\u001b[0;34m[\u001b[0m\u001b[0;34m\"rgb\"\u001b[0m\u001b[0;34m,\u001b[0m \u001b[0;34m\"b12\"\u001b[0m\u001b[0;34m]\u001b[0m\u001b[0;34m,\u001b[0m \u001b[0mindex\u001b[0m\u001b[0;34m=\u001b[0m\u001b[0mproducts\u001b[0m\u001b[0;34m.\u001b[0m\u001b[0mindex\u001b[0m\u001b[0;34m\u001b[0m\u001b[0;34m\u001b[0m\u001b[0m\n",
      "\u001b[0;32m~/projects/satellite/ds_exploration/data_download.py\u001b[0m in \u001b[0;36mextract_data_from_tile\u001b[0;34m(tile, output_folder, delete_unused)\u001b[0m\n\u001b[1;32m    108\u001b[0m     \u001b[0mfile_path\u001b[0m \u001b[0;34m=\u001b[0m \u001b[0mPath\u001b[0m\u001b[0;34m(\u001b[0m\u001b[0;34mf\"{output_folder}/{tile.title}\"\u001b[0m\u001b[0;34m)\u001b[0m\u001b[0;34m\u001b[0m\u001b[0;34m\u001b[0m\u001b[0m\n\u001b[1;32m    109\u001b[0m     \u001b[0munarchive_download\u001b[0m\u001b[0;34m(\u001b[0m\u001b[0mfile_path\u001b[0m\u001b[0;34m)\u001b[0m\u001b[0;34m\u001b[0m\u001b[0;34m\u001b[0m\u001b[0m\n\u001b[0;32m--> 110\u001b[0;31m     \u001b[0mfolder_name\u001b[0m \u001b[0;34m=\u001b[0m \u001b[0mget_granule_foldername\u001b[0m\u001b[0;34m(\u001b[0m\u001b[0;34mf\"{output_folder}/{tile.title}/GRANULE\"\u001b[0m\u001b[0;34m)\u001b[0m\u001b[0;34m\u001b[0m\u001b[0;34m\u001b[0m\u001b[0m\n\u001b[0m\u001b[1;32m    111\u001b[0m     transformed_images_dir = copy_image_to_root_for_bash_tool(\n\u001b[1;32m    112\u001b[0m         \u001b[0mroot_dir\u001b[0m\u001b[0;34m=\u001b[0m\u001b[0mos\u001b[0m\u001b[0;34m.\u001b[0m\u001b[0mpath\u001b[0m\u001b[0;34m.\u001b[0m\u001b[0mjoin\u001b[0m\u001b[0;34m(\u001b[0m\u001b[0moutput_folder\u001b[0m\u001b[0;34m,\u001b[0m \u001b[0mtile\u001b[0m\u001b[0;34m.\u001b[0m\u001b[0mtitle\u001b[0m\u001b[0;34m)\u001b[0m\u001b[0;34m,\u001b[0m \u001b[0mtitle\u001b[0m\u001b[0;34m=\u001b[0m\u001b[0mtile\u001b[0m\u001b[0;34m.\u001b[0m\u001b[0mfilename\u001b[0m\u001b[0;34m\u001b[0m\u001b[0;34m\u001b[0m\u001b[0m\n",
      "\u001b[0;32m~/projects/satellite/ds_exploration/data_download.py\u001b[0m in \u001b[0;36mget_granule_foldername\u001b[0;34m(unzipped_folder)\u001b[0m\n\u001b[1;32m     99\u001b[0m \u001b[0;34m\u001b[0m\u001b[0m\n\u001b[1;32m    100\u001b[0m \u001b[0;32mdef\u001b[0m \u001b[0mget_granule_foldername\u001b[0m\u001b[0;34m(\u001b[0m\u001b[0munzipped_folder\u001b[0m\u001b[0;34m)\u001b[0m\u001b[0;34m:\u001b[0m\u001b[0;34m\u001b[0m\u001b[0;34m\u001b[0m\u001b[0m\n\u001b[0;32m--> 101\u001b[0;31m     \u001b[0mimg_folder\u001b[0m \u001b[0;34m=\u001b[0m \u001b[0mglob\u001b[0m\u001b[0;34m(\u001b[0m\u001b[0munzipped_folder\u001b[0m\u001b[0;34m,\u001b[0m \u001b[0;34m'*'\u001b[0m\u001b[0;34m,\u001b[0m \u001b[0;34m'IMG_DATA'\u001b[0m\u001b[0;34m)\u001b[0m\u001b[0;34m[\u001b[0m\u001b[0;36m0\u001b[0m\u001b[0;34m]\u001b[0m\u001b[0;34m\u001b[0m\u001b[0;34m\u001b[0m\u001b[0m\n\u001b[0m\u001b[1;32m    102\u001b[0m     \u001b[0mprint\u001b[0m\u001b[0;34m(\u001b[0m\u001b[0mimg_folder\u001b[0m\u001b[0;34m)\u001b[0m\u001b[0;34m\u001b[0m\u001b[0;34m\u001b[0m\u001b[0m\n\u001b[1;32m    103\u001b[0m     \u001b[0;31m# folder = [filename for filename in unzipped_folder]\u001b[0m\u001b[0;34m\u001b[0m\u001b[0;34m\u001b[0m\u001b[0;34m\u001b[0m\u001b[0m\n",
      "\u001b[0;31mTypeError\u001b[0m: glob() takes 1 positional argument but 3 were given"
     ]
    }
   ],
   "source": [
    "d = download_tiles(labels[0:1], \"data\", 'utsavjha', 'abcdefgh')"
   ]
  },
  {
   "cell_type": "code",
   "execution_count": 13,
   "metadata": {},
   "outputs": [],
   "source": [
    "product = \"\"\"Tile: Pandas(Index='f060901c-8bf6-47c4-be2f-fd7a253e7a91', title='S2B_MSIL1C_20200929T190109_N0209_R013_T10SEH_20200929T213343', date=Timestamp('2020-09-29 19:01:09.024000'), footprint='POLYGON((-122.24843 38.84492814517761,-122.280365 38.75319183686564,-122.33087 38.60676360025349,-122.3802 38.46006574089602,-122.43063 38.3136854644201,-122.47995 38.16713621610586,-122.50545 38.091306414180686,-122.52957 38.019766740690606,-122.579285 37.87332519483883,-122.58467 37.85724036165807,-123.00023 37.85944195932729,-123.00023 38.848998483821255,-122.24843 38.84492814517761))', url=\"https://scihub.copernicus.eu/dhus/odata/v1/Products('f060901c-8bf6-47c4-be2f-fd7a253e7a91')/$value\", path='data/S2B_MSIL1C_20200929T190109_N0209_R013_T10SEH_20200929T213343.zip')\"\"\""
   ]
  },
  {
   "cell_type": "code",
   "execution_count": null,
   "id": "476e1d6a-0a15-4bf2-aead-3a3d51e417c1",
   "metadata": {},
   "outputs": [],
   "source": [
    "d.memory_usage(deep=True)"
   ]
  }
 ],
 "metadata": {
  "kernelspec": {
   "name": "python377jvsc74a57bd0d391f50019e7b6558eff8d1cfbbc949e2bb1cd443bc4fc928e8f8deec48b0917",
   "display_name": "Python 3.7.7 64-bit ('dsenv': conda)"
  },
  "language_info": {
   "codemirror_mode": {
    "name": "ipython",
    "version": 3
   },
   "file_extension": ".py",
   "mimetype": "text/x-python",
   "name": "python",
   "nbconvert_exporter": "python",
   "pygments_lexer": "ipython3",
   "version": "3.7.7-final"
  }
 },
 "nbformat": 4,
 "nbformat_minor": 5
}