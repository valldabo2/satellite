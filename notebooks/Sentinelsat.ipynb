{
 "cells": [
  {
   "cell_type": "code",
   "execution_count": 1,
   "id": "broadband-lighter",
   "metadata": {},
   "outputs": [],
   "source": [
    "import sys\n",
    "sys.path.append(\"../\")"
   ]
  },
  {
   "cell_type": "code",
   "execution_count": 29,
   "id": "invisible-cream",
   "metadata": {},
   "outputs": [
    {
     "name": "stdout",
     "output_type": "stream",
     "text": [
      "Requirement already satisfied: shapely in /Users/utsavkumarjha/Desktop/self/code/satellite/venv/lib/python3.7/site-packages (1.7.1)\n"
     ]
    },
    {
     "name": "stderr",
     "output_type": "stream",
     "text": [
      "/usr/local/lib/python3.7/site-packages/pyproj/crs/crs.py:53: FutureWarning: '+init=<authority>:<code>' syntax is deprecated. '<authority>:<code>' is the preferred initialization method. When making the change, be mindful of axis order changes: https://pyproj4.github.io/pyproj/stable/gotchas.html#axis-order-changes-in-proj-6\n",
      "  return _prepare_from_string(\" \".join(pjargs))\n",
      "/usr/local/lib/python3.7/site-packages/pyproj/crs/crs.py:294: FutureWarning: '+init=<authority>:<code>' syntax is deprecated. '<authority>:<code>' is the preferred initialization method. When making the change, be mindful of axis order changes: https://pyproj4.github.io/pyproj/stable/gotchas.html#axis-order-changes-in-proj-6\n",
      "  projstring = _prepare_from_string(\" \".join((projstring, projkwargs)))\n"
     ]
    },
    {
     "ename": "CRSError",
     "evalue": "Invalid projection: +proj=aea +lat1=0.0 +lat2=10.0 +type=crs: (Internal Proj Error: proj_create: Error -21 (conic lat_1 = -lat_2))",
     "output_type": "error",
     "traceback": [
      "\u001b[0;31m---------------------------------------------------------------------------\u001b[0m",
      "\u001b[0;31mCRSError\u001b[0m                                  Traceback (most recent call last)",
      "\u001b[0;32m<ipython-input-29-793255ad9350>\u001b[0m in \u001b[0;36m<module>\u001b[0;34m\u001b[0m\n\u001b[1;32m     15\u001b[0m             \u001b[0mproj\u001b[0m\u001b[0;34m=\u001b[0m\u001b[0;34m'aea'\u001b[0m\u001b[0;34m,\u001b[0m\u001b[0;34m\u001b[0m\u001b[0;34m\u001b[0m\u001b[0m\n\u001b[1;32m     16\u001b[0m             \u001b[0mlat1\u001b[0m\u001b[0;34m=\u001b[0m\u001b[0mgeom\u001b[0m\u001b[0;34m.\u001b[0m\u001b[0mbounds\u001b[0m\u001b[0;34m[\u001b[0m\u001b[0;36m1\u001b[0m\u001b[0;34m]\u001b[0m\u001b[0;34m,\u001b[0m\u001b[0;34m\u001b[0m\u001b[0;34m\u001b[0m\u001b[0m\n\u001b[0;32m---> 17\u001b[0;31m             lat2=geom.bounds[3])),\n\u001b[0m\u001b[1;32m     18\u001b[0m     geom)\n\u001b[1;32m     19\u001b[0m \u001b[0;34m\u001b[0m\u001b[0m\n",
      "\u001b[0;32m/usr/local/lib/python3.7/site-packages/pyproj/proj.py\u001b[0m in \u001b[0;36m__init__\u001b[0;34m(self, projparams, preserve_units, **kwargs)\u001b[0m\n\u001b[1;32m    107\u001b[0m         \u001b[0;34m'116.366 39.867'\u001b[0m\u001b[0;34m\u001b[0m\u001b[0;34m\u001b[0m\u001b[0m\n\u001b[1;32m    108\u001b[0m         \"\"\"\n\u001b[0;32m--> 109\u001b[0;31m         \u001b[0mself\u001b[0m\u001b[0;34m.\u001b[0m\u001b[0mcrs\u001b[0m \u001b[0;34m=\u001b[0m \u001b[0mCRS\u001b[0m\u001b[0;34m.\u001b[0m\u001b[0mfrom_user_input\u001b[0m\u001b[0;34m(\u001b[0m\u001b[0mprojparams\u001b[0m\u001b[0;34m,\u001b[0m \u001b[0;34m**\u001b[0m\u001b[0mkwargs\u001b[0m\u001b[0;34m)\u001b[0m\u001b[0;34m\u001b[0m\u001b[0;34m\u001b[0m\u001b[0m\n\u001b[0m\u001b[1;32m    110\u001b[0m         \u001b[0;31m# make sure units are meters if preserve_units is False.\u001b[0m\u001b[0;34m\u001b[0m\u001b[0;34m\u001b[0m\u001b[0;34m\u001b[0m\u001b[0m\n\u001b[1;32m    111\u001b[0m         \u001b[0;32mif\u001b[0m \u001b[0;32mnot\u001b[0m \u001b[0mpreserve_units\u001b[0m \u001b[0;32mand\u001b[0m \u001b[0;34m\"foot\"\u001b[0m \u001b[0;32min\u001b[0m \u001b[0mself\u001b[0m\u001b[0;34m.\u001b[0m\u001b[0mcrs\u001b[0m\u001b[0;34m.\u001b[0m\u001b[0maxis_info\u001b[0m\u001b[0;34m[\u001b[0m\u001b[0;36m0\u001b[0m\u001b[0;34m]\u001b[0m\u001b[0;34m.\u001b[0m\u001b[0munit_name\u001b[0m\u001b[0;34m:\u001b[0m\u001b[0;34m\u001b[0m\u001b[0;34m\u001b[0m\u001b[0m\n",
      "\u001b[0;32m/usr/local/lib/python3.7/site-packages/pyproj/crs/crs.py\u001b[0m in \u001b[0;36mfrom_user_input\u001b[0;34m(value, **kwargs)\u001b[0m\n\u001b[1;32m    438\u001b[0m         \u001b[0;32mif\u001b[0m \u001b[0misinstance\u001b[0m\u001b[0;34m(\u001b[0m\u001b[0mvalue\u001b[0m\u001b[0;34m,\u001b[0m \u001b[0mCRS\u001b[0m\u001b[0;34m)\u001b[0m\u001b[0;34m:\u001b[0m\u001b[0;34m\u001b[0m\u001b[0;34m\u001b[0m\u001b[0m\n\u001b[1;32m    439\u001b[0m             \u001b[0;32mreturn\u001b[0m \u001b[0mvalue\u001b[0m\u001b[0;34m\u001b[0m\u001b[0;34m\u001b[0m\u001b[0m\n\u001b[0;32m--> 440\u001b[0;31m         \u001b[0;32mreturn\u001b[0m \u001b[0mCRS\u001b[0m\u001b[0;34m(\u001b[0m\u001b[0mvalue\u001b[0m\u001b[0;34m,\u001b[0m \u001b[0;34m**\u001b[0m\u001b[0mkwargs\u001b[0m\u001b[0;34m)\u001b[0m\u001b[0;34m\u001b[0m\u001b[0;34m\u001b[0m\u001b[0m\n\u001b[0m\u001b[1;32m    441\u001b[0m \u001b[0;34m\u001b[0m\u001b[0m\n\u001b[1;32m    442\u001b[0m     \u001b[0;32mdef\u001b[0m \u001b[0mget_geod\u001b[0m\u001b[0;34m(\u001b[0m\u001b[0mself\u001b[0m\u001b[0;34m)\u001b[0m \u001b[0;34m->\u001b[0m \u001b[0mOptional\u001b[0m\u001b[0;34m[\u001b[0m\u001b[0mGeod\u001b[0m\u001b[0;34m]\u001b[0m\u001b[0;34m:\u001b[0m\u001b[0;34m\u001b[0m\u001b[0;34m\u001b[0m\u001b[0m\n",
      "\u001b[0;32m/usr/local/lib/python3.7/site-packages/pyproj/crs/crs.py\u001b[0m in \u001b[0;36m__init__\u001b[0;34m(self, projparams, **kwargs)\u001b[0m\n\u001b[1;32m    294\u001b[0m             \u001b[0mprojstring\u001b[0m \u001b[0;34m=\u001b[0m \u001b[0m_prepare_from_string\u001b[0m\u001b[0;34m(\u001b[0m\u001b[0;34m\" \"\u001b[0m\u001b[0;34m.\u001b[0m\u001b[0mjoin\u001b[0m\u001b[0;34m(\u001b[0m\u001b[0;34m(\u001b[0m\u001b[0mprojstring\u001b[0m\u001b[0;34m,\u001b[0m \u001b[0mprojkwargs\u001b[0m\u001b[0;34m)\u001b[0m\u001b[0;34m)\u001b[0m\u001b[0;34m)\u001b[0m\u001b[0;34m\u001b[0m\u001b[0;34m\u001b[0m\u001b[0m\n\u001b[1;32m    295\u001b[0m \u001b[0;34m\u001b[0m\u001b[0m\n\u001b[0;32m--> 296\u001b[0;31m         \u001b[0msuper\u001b[0m\u001b[0;34m(\u001b[0m\u001b[0;34m)\u001b[0m\u001b[0;34m.\u001b[0m\u001b[0m__init__\u001b[0m\u001b[0;34m(\u001b[0m\u001b[0mprojstring\u001b[0m\u001b[0;34m)\u001b[0m\u001b[0;34m\u001b[0m\u001b[0;34m\u001b[0m\u001b[0m\n\u001b[0m\u001b[1;32m    297\u001b[0m \u001b[0;34m\u001b[0m\u001b[0m\n\u001b[1;32m    298\u001b[0m     \u001b[0;34m@\u001b[0m\u001b[0mstaticmethod\u001b[0m\u001b[0;34m\u001b[0m\u001b[0;34m\u001b[0m\u001b[0m\n",
      "\u001b[0;32mpyproj/_crs.pyx\u001b[0m in \u001b[0;36mpyproj._crs._CRS.__init__\u001b[0;34m()\u001b[0m\n",
      "\u001b[0;31mCRSError\u001b[0m: Invalid projection: +proj=aea +lat1=0.0 +lat2=10.0 +type=crs: (Internal Proj Error: proj_create: Error -21 (conic lat_1 = -lat_2))"
     ]
    }
   ],
   "source": [
    "\n",
    "import shapely\n",
    "import pyproj\n",
    "import shapely.ops as ops\n",
    "from shapely.geometry.polygon import Polygon\n",
    "from functools import partial\n",
    "\n",
    "\n",
    "geom = Polygon([(0, 0), (0, 10), (10, 10), (10, 0), (0, 0)])\n",
    "geom_area = ops.transform(\n",
    "    partial(\n",
    "        pyproj.transform,\n",
    "        pyproj.Proj(init='EPSG:4326'),\n",
    "        pyproj.Proj(\n",
    "            proj='aea',\n",
    "            lat1=geom.bounds[1],\n",
    "            lat2=geom.bounds[3])),\n",
    "    geom)\n",
    "\n",
    "# Print the area in m^2\n",
    "geom_area.area "
   ]
  },
  {
   "cell_type": "code",
   "execution_count": 7,
   "id": "talented-tiffany",
   "metadata": {},
   "outputs": [],
   "source": [
    "import shutil\n",
    "import rasterio\n",
    "import fnmatch\n",
    "import os\n",
    "from pathlib import Path\n",
    "from glob import glob\n",
    "import numpy as np\n",
    "from ds_exploration.plotting_utils import plot_image\n",
    "\n",
    "# os.chdir('../sentinelsat/')\n",
    "from sentinelsat import SentinelAPI\n",
    "# from sentinelsat import SentinelProductsAPI\n",
    "os.chdir('../notebooks/')\n",
    "\n",
    "def make_filter(pattern):\n",
    "    def node_filter(node_info, include_pattern=pattern):\n",
    "        return True if fnmatch.fnmatch(node_info[\"node_path\"].lower(), include_pattern) else False\n",
    "    return node_filter\n",
    "\n",
    "def unarchive_download(file_path):\n",
    "    unarchive_dir = file_path.parent\n",
    "    shutil.unpack_archive(file_path, unarchive_dir)\n",
    "    os.remove(file_path)\n",
    "\n",
    "def extract_and_combine(zip_file_path):\n",
    "    data_path = str(zip_file_path).replace(\".zip\", \".SAFE\")\n",
    "    band_files = glob(data_path + \"/GRANULE/*/IMG_DATA/*.jp2\")\n",
    "\n",
    "    def get_band_array(band, band_files):\n",
    "        band_file = [bf for bf in band_files if band in bf][0]\n",
    "        array = rasterio.open(band_file).read(1)\n",
    "        return array\n",
    "\n",
    "    red = get_band_array(\"B04\", band_files)\n",
    "    green = get_band_array(\"B03\", band_files)\n",
    "    blue = get_band_array(\"B02\", band_files)\n",
    "    return np.dstack([red, green, blue])\n",
    "\n",
    "def download_tiles(list_of_tiles,\n",
    "                   output_folder,\n",
    "                   user,\n",
    "                   password,\n",
    "                   nfilter='*B??.jp2'\n",
    "                  ):\n",
    "    if nfilter:\n",
    "        nodefilter=make_filter(nfilter)\n",
    "#         api = SentinelProductsAPI(user, password, 'https://scihub.copernicus.eu/dhus')\n",
    "    \n",
    "    api = SentinelAPI(user, password, 'https://scihub.copernicus.eu/dhus')\n",
    "    \n",
    "    try:\n",
    "        os.mkdir(output_folder)\n",
    "    except:\n",
    "        pass\n",
    "    \n",
    "    for tile in list_of_tiles:\n",
    "        print(f'Download tile name: {tile[\"tile_name\"]} for {tile[\"date\"][0]}, {tile[\"date\"][1]}, with filter {nfilter}')\n",
    "        name = tile['tile_name']\n",
    "        date = tile['date']\n",
    "        products = api.query(\n",
    "            date=date, tileid=name,\n",
    "            platformname='Sentinel-2', producttype='S2MSI1C'\n",
    "        )\n",
    "        if nfilter:\n",
    "            downloaded_products = api.download_all(products, directory_path=output_folder, n_concurrent_dl=5, nodefilter=nodefilter)\n",
    "        else:\n",
    "            downloaded_products = api.download_all(products, directory_path=output_folder, n_concurrent_dl=5)\n",
    "        \n",
    "        return downloaded_products\n",
    "#         print(downloaded_products)\n",
    "#         filename = [downloaded_products[0][k]['title'] for k in downloaded_products[0].keys()][0]\n",
    "#         filename = [downloaded_products[0][k]['title'] for k in downloaded_products[0].keys()][0]\n",
    "#         zip_file_path = Path(f\"{output_folder}/{filename}.zip\")\n",
    "#         unarchive_download(zip_file_path)\n",
    "        \n",
    "#         rgb = extract_and_combine(zip_file_path)\n",
    "#         print(rgb.shape)\n",
    "#         plot_image(rgb, factor=5/2e4, clip_range=(0,1))\n"
   ]
  },
  {
   "cell_type": "code",
   "execution_count": 3,
   "id": "brilliant-finger",
   "metadata": {},
   "outputs": [],
   "source": [
    "# register at https://scihub.copernicus.eu/dhus/#/home\n",
    "user = 'utsavjha'\n",
    "password = 'abcdefgh'"
   ]
  },
  {
   "cell_type": "code",
   "execution_count": 5,
   "id": "authentic-prayer",
   "metadata": {
    "tags": []
   },
   "outputs": [],
   "source": [
    "list_of_tiles = [\n",
    "    {'tile_name': \"10SEH\", 'date': ('20200928', '20200930')},\n",
    "#     {'tile_name': \"10TDK\", 'date': ('20201004', '20201009')},\n",
    "#     {'tile_name': \"10TDL\", 'date': ('20200928', '20200930')},\n",
    "]"
   ]
  },
  {
   "cell_type": "code",
   "execution_count": 8,
   "id": "fabulous-miniature",
   "metadata": {
    "tags": []
   },
   "outputs": [
    {
     "name": "stdout",
     "output_type": "stream",
     "text": [
      "Download tile name: 10SEH for 20200928, 20200930, with filter None\n"
     ]
    },
    {
     "name": "stderr",
     "output_type": "stream",
     "text": [
      "Downloading: 100%|██████████| 357M/357M [03:50<00:00, 1.55MB/s] \n",
      "MD5 checksumming: 100%|██████████| 357M/357M [00:00<00:00, 578MB/s] \n"
     ]
    }
   ],
   "source": [
    "x=download_tiles(list_of_tiles, \"data\", user, password, nfilter=None)"
   ]
  },
  {
   "cell_type": "code",
   "execution_count": 13,
   "id": "failing-sheriff",
   "metadata": {},
   "outputs": [],
   "source": [
    "\n",
    "def area_of_polygon(x, y):\n",
    "    \"\"\"Calculates the area of an arbitrary polygon given its verticies\"\"\"\n",
    "    area = 0.0\n",
    "    for i in range(-1, len(x)-1):\n",
    "        area += x[i] * (y[i+1] - y[i-1])\n",
    "    return abs(area) / 2.0\n",
    "\n",
    "\n",
    "def calculate_area(latitude, longitude):\n",
    "    \"\"\"Returns the x & y coordinates in meters using a sinusoidal projection\"\"\"\n",
    "    from math import pi, cos, radians\n",
    "    earth_radius = 6371009 # in meters\n",
    "    lat_dist = pi * earth_radius / 180.0\n",
    "\n",
    "    y = [lat * lat_dist for lat in latitude]\n",
    "    x = [long * lat_dist * cos(radians(lat))\n",
    "         for lat, long in zip(latitude, longitude)]\n",
    "\n",
    "    area = area_of_polygon(x,y)\n",
    "    return area\n",
    "\n",
    "\n",
    "def determine_polygon_area(polygon_coordinates):\n",
    "    for lat, long in polygon_coordinates:\n",
    "        area = calculate_area(lat, long)\n",
    "        print (area)"
   ]
  },
  {
   "cell_type": "code",
   "execution_count": 19,
   "id": "liberal-poker",
   "metadata": {},
   "outputs": [
    {
     "data": {
      "text/plain": [
       "'POLYGON((-122.24843 38.84492814517761,-122.280365 38.75319183686564,-122.33087 38.60676360025349,-122.3802 38.46006574089602,-122.43063 38.3136854644201,-122.47995 38.16713621610586,-122.50545 38.091306414180686,-122.52957 38.019766740690606,-122.579285 37.87332519483883,-122.58467 37.85724036165807,-123.00023 37.85944195932729,-123.00023 38.848998483821255,-122.24843 38.84492814517761))'"
      ]
     },
     "execution_count": 19,
     "metadata": {},
     "output_type": "execute_result"
    }
   ],
   "source": [
    "polygon_coordinates = [x[0][item][\"footprint\"] for item in x[0].keys()][0]\n",
    "polygon_coordinates"
   ]
  },
  {
   "cell_type": "code",
   "execution_count": 36,
   "id": "round-volunteer",
   "metadata": {},
   "outputs": [
    {
     "data": {
      "text/plain": [
       "['-122.24843 38.84492814517761',\n",
       " '-122.280365 38.75319183686564',\n",
       " '-122.33087 38.60676360025349',\n",
       " '-122.3802 38.46006574089602',\n",
       " '-122.43063 38.3136854644201',\n",
       " '-122.47995 38.16713621610586',\n",
       " '-122.50545 38.091306414180686',\n",
       " '-122.52957 38.019766740690606',\n",
       " '-122.579285 37.87332519483883',\n",
       " '-122.58467 37.85724036165807',\n",
       " '-123.00023 37.85944195932729',\n",
       " '-123.00023 38.848998483821255',\n",
       " '-122.24843 38.84492814517761))']"
      ]
     },
     "execution_count": 36,
     "metadata": {},
     "output_type": "execute_result"
    }
   ],
   "source": [
    "nums = polygon_coordinates[9:].split(',')\n",
    "nums"
   ]
  },
  {
   "cell_type": "code",
   "execution_count": 38,
   "id": "curious-shield",
   "metadata": {},
   "outputs": [
    {
     "data": {
      "text/plain": [
       "[(-122.24843, 38.8449281),\n",
       " (-122.280365, 38.7531918),\n",
       " (-122.33087, 38.6067636),\n",
       " (-122.3802, 38.4600657),\n",
       " (-122.43063, 38.3136854),\n",
       " (-122.47995, 38.1671362),\n",
       " (-122.50545, 38.0913064),\n",
       " (-122.52957, 38.0197667),\n",
       " (-122.579285, 37.8733251),\n",
       " (-122.58467, 37.8572403),\n",
       " (-123.00023, 37.8594419),\n",
       " (-123.00023, 38.8489984),\n",
       " (-122.24843, 38.8449281)]"
      ]
     },
     "execution_count": 38,
     "metadata": {},
     "output_type": "execute_result"
    }
   ],
   "source": [
    "\n",
    "pg_coordinates = []\n",
    "for item in nums:\n",
    "    lat, lon = item.split(' ')\n",
    "    lon = lon[:10]\n",
    "    some_tupe = (float(lat), float(lon))\n",
    "    pg_coordinates.append(some_tupe)\n",
    "\n",
    "pg_coordinates\n",
    "#     area = calculate_area(lat, lon)\n",
    "#     print(f\"Area {lat}, {lon}     =    {area}\")"
   ]
  },
  {
   "cell_type": "code",
   "execution_count": 46,
   "id": "suffering-wireless",
   "metadata": {},
   "outputs": [
    {
     "data": {
      "text/plain": [
       "(-123.00023, 37.8572403, -122.24843, 38.8489984)"
      ]
     },
     "execution_count": 46,
     "metadata": {},
     "output_type": "execute_result"
    }
   ],
   "source": [
    "pg = Polygon(pg_coordinates)\n",
    "\n",
    "pg.bounds"
   ]
  },
  {
   "cell_type": "code",
   "execution_count": 63,
   "id": "graduate-underwear",
   "metadata": {},
   "outputs": [
    {
     "data": {
      "image/svg+xml": [
       "<svg xmlns=\"http://www.w3.org/2000/svg\" xmlns:xlink=\"http://www.w3.org/1999/xlink\" width=\"100.0\" height=\"100.0\" viewBox=\"-123.039900324 37.817569976 0.8311406480000016 1.0710987479999972\" preserveAspectRatio=\"xMinYMin meet\"><g transform=\"matrix(1,0,0,-1,0,76.7062387)\"><path fill-rule=\"evenodd\" fill=\"#66cc99\" stroke=\"#555555\" stroke-width=\"0.021421974959999944\" opacity=\"0.6\" d=\"M -122.24843,38.8449281 L -122.280365,38.7531918 L -122.33087,38.6067636 L -122.3802,38.4600657 L -122.43063,38.3136854 L -122.47995,38.1671362 L -122.50545,38.0913064 L -122.52957,38.0197667 L -122.579285,37.8733251 L -122.58467,37.8572403 L -123.00023,37.8594419 L -123.00023,38.8489984 L -122.24843,38.8449281 z\" /></g></svg>"
      ],
      "text/plain": [
       "<shapely.geometry.polygon.Polygon at 0x12d309a10>"
      ]
     },
     "execution_count": 63,
     "metadata": {},
     "output_type": "execute_result"
    }
   ],
   "source": [
    "pg"
   ]
  },
  {
   "cell_type": "code",
   "execution_count": 64,
   "id": "rolled-czech",
   "metadata": {},
   "outputs": [
    {
     "name": "stdout",
     "output_type": "stream",
     "text": [
      "Requirement already satisfied: geopy in /usr/local/lib/python3.7/site-packages (2.1.0)\n",
      "Requirement already satisfied: geographiclib<2,>=1.49 in /usr/local/lib/python3.7/site-packages (from geopy) (1.50)\n",
      "\u001b[33mWARNING: You are using pip version 20.3; however, version 21.0.1 is available.\n",
      "You should consider upgrading via the '/usr/local/opt/python/bin/python3.7 -m pip install --upgrade pip' command.\u001b[0m\n",
      "Requirement already satisfied: pillow in /usr/local/lib/python3.7/site-packages (8.2.0)\n",
      "\u001b[33mWARNING: You are using pip version 20.3; however, version 21.0.1 is available.\n",
      "You should consider upgrading via the '/usr/local/opt/python/bin/python3.7 -m pip install --upgrade pip' command.\u001b[0m\n"
     ]
    }
   ],
   "source": [
    "# !pip install geopy\n",
    "!{sys.executable} -m pip install geopy\n",
    "!{sys.executable} -m pip install pillow"
   ]
  },
  {
   "cell_type": "code",
   "execution_count": 62,
   "id": "supreme-cutting",
   "metadata": {},
   "outputs": [
    {
     "data": {
      "text/plain": [
       "110.08829879958837"
      ]
     },
     "execution_count": 62,
     "metadata": {},
     "output_type": "execute_result"
    }
   ],
   "source": [
    "import geopy\n",
    "\n",
    "import geopy.distance\n",
    "width = geopy.distance.geodesic((pg.bounds[1], pg.bounds[0]),(pg.bounds[1], pg.bounds[2])).kilometers\n",
    "height = geopy.distance.geodesic((pg.bounds[1], pg.bounds[0]),(pg.bounds[3], pg.bounds[0])).kilometers\n",
    "\n",
    "width\n",
    "height"
   ]
  },
  {
   "cell_type": "code",
   "execution_count": 78,
   "id": "aware-toyota",
   "metadata": {},
   "outputs": [
    {
     "data": {
      "text/plain": [
       "<matplotlib.image.AxesImage at 0x12d608f10>"
      ]
     },
     "execution_count": 78,
     "metadata": {},
     "output_type": "execute_result"
    },
    {
     "data": {
      "image/png": "[encoded data removed]",
      "text/plain": [
       "<Figure size 432x288 with 1 Axes>"
      ]
     },
     "metadata": {
      "needs_background": "light"
     },
     "output_type": "display_data"
    }
   ],
   "source": [
    "from PIL import Image \n",
    "im = Image.open(\"/Users/utsavkumarjha/Desktop/self/code/satellite/lib/src/data/plots/S2B_MSIL1C_20200929T190109_N0209_R013_T10SEH_20200929T213343.png\")\n",
    "image = np.array(im)\n",
    "image.shape\n",
    "plt.imshow(image)"
   ]
  },
  {
   "cell_type": "code",
   "execution_count": 76,
   "id": "viral-exception",
   "metadata": {},
   "outputs": [
    {
     "data": {
      "text/plain": [
       "<matplotlib.image.AxesImage at 0x12d6f1f50>"
      ]
     },
     "execution_count": 76,
     "metadata": {},
     "output_type": "execute_result"
    },
    {
     "data": {
      "image/png": "[encoded data removed]",
      "text/plain": [
       "<Figure size 432x288 with 1 Axes>"
      ]
     },
     "metadata": {
      "needs_background": "light"
     },
     "output_type": "display_data"
    }
   ],
   "source": [
    "import matplotlib.pyplot as plt\n",
    "cut_images = []\n",
    "\n",
    "h_chunk = int(image.shape[0] / height)\n",
    "w_chunk = int(image.shape[1] / width)\n",
    "for h in range(int(height)):\n",
    "    for w in range(int(width)):\n",
    "        image_cut = image[h_chunk*h:h_chunk*(h+1), w_chunk*w:w_chunk*(w+1), :]\n",
    "        \n",
    "        cut_images.append(image_cut )\n",
    "\n",
    "plt.imshow(cut_images[200])"
   ]
  },
  {
   "cell_type": "code",
   "execution_count": null,
   "id": "color-attitude",
   "metadata": {},
   "outputs": [],
   "source": [
    "from skimage.util import view_as_blocks\n",
    "\n",
    "blocks = view_as_blocks(rgb, block_shape=(1098, 1098, 3))\n",
    "plot_image(blocks[1,1][0, :, :, :], factor=5/2e4, clip_range=(0,1), figsize=(5, 5))"
   ]
  },
  {
   "cell_type": "code",
   "execution_count": null,
   "id": "spoken-password",
   "metadata": {
    "tags": []
   },
   "outputs": [],
   "source": [
    "from skimage.transform import rescale\n",
    "\n",
    "scaled = rescale(blocks[1,1][0, :, :, :] , scale=0.2, preserve_range=True, multichannel=True)\n",
    "print(scaled.shape, blocks[1,1][0, :, :, :].shape)\n",
    "plot_image(scaled, factor=5/2e4, clip_range=(0,1), figsize=(5, 5))"
   ]
  }
 ],
 "metadata": {
  "kernelspec": {
   "display_name": "Python 3",
   "language": "python",
   "name": "python3"
  },
  "language_info": {
   "codemirror_mode": {
    "name": "ipython",
    "version": 3
   },
   "file_extension": ".py",
   "mimetype": "text/x-python",
   "name": "python",
   "nbconvert_exporter": "python",
   "pygments_lexer": "ipython3",
   "version": "3.7.7"
  }
 },
 "nbformat": 4,
 "nbformat_minor": 5
}
