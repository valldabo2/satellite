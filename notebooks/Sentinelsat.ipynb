{
 "cells": [
  {
   "cell_type": "code",
   "execution_count": 1,
   "id": "92eab82d-a624-4fed-8486-d6008ac081b9",
   "metadata": {},
   "outputs": [],
   "source": [
    "%load_ext autoreload\n",
    "%autoreload 2\n",
    "%matplotlib inline"
   ]
  },
  {
   "cell_type": "code",
   "execution_count": 2,
   "id": "ea276202-a3c8-4c1d-bd9f-e7bcded61e9c",
   "metadata": {},
   "outputs": [],
   "source": [
    "import sys\n",
    "sys.path.append(\"../\")"
   ]
  },
  {
   "cell_type": "code",
   "execution_count": 3,
   "id": "4123a347-d425-47d6-8a1f-3013925a9b12",
   "metadata": {},
   "outputs": [],
   "source": [
    "from ds_exploration.data_download import download_tiles"
   ]
  },
  {
   "cell_type": "markdown",
   "id": "2d4b1cb0-a492-45f4-94b5-00b779697df0",
   "metadata": {},
   "source": [
    "Register at https://scihub.copernicus.eu/dhus/#/home\n",
    "\n",
    "Then enter your credentials in a file .netrc in your user home directory in the following form:\n",
    "\n",
    "```\n",
    "machine scihub.copernicus.eu\n",
    "login <your username>\n",
    "password <your password>\n",
    "```"
   ]
  },
  {
   "cell_type": "markdown",
   "id": "637a3123-d74f-4d80-b99c-ce66d0f4aadb",
   "metadata": {},
   "source": [
    "## Tiles to download"
   ]
  },
  {
   "cell_type": "code",
   "execution_count": 4,
   "id": "d6e81c59-7627-4e8e-9549-6cdd390fe8b5",
   "metadata": {},
   "outputs": [],
   "source": [
    "labels = [\n",
    "    {'date': ('20200928', '20200930'), 'tile_name': '10SEH'},\n",
    "    {'date': ('20201001', '20201009'), 'tile_name': '10TDK'},\n",
    "    {'date': ('20200928', '20200930'), 'tile_name': '10TDL'},\n",
    "    {'date': ('20200627', '20200629'), 'tile_name': '10SFG'},\n",
    "    {'date': ('20200714', '20200716'), 'tile_name': '10SGF'},\n",
    "    {'date': ('20200719', '20200721'), 'tile_name': '10SGF'},\n",
    "    {'date': ('20200722', '20200724'), 'tile_name': '10TFK'},\n",
    "    {'date': ('20200816', '20200818'), 'tile_name': '10TGK'},\n",
    "    {'date': ('20200722', '20200724'), 'tile_name': '10TFL'},\n",
    "    {'date': ('20200722', '20200724'), 'tile_name': '10TFM'},\n",
    "    {'date': ('20200909', '20200911'), 'tile_name': '11SMT'},\n",
    "    {'date': ('20200914', '20200916'), 'tile_name': '11SMT'},\n",
    "    {'date': ('20200909', '20200911'), 'tile_name': '11SMU'},\n",
    "    {'date': ('20200914', '20200916'), 'tile_name': '11SMU'},\n",
    "    {'date': ('20200902', '20200904'), 'tile_name': '11SLA'},\n",
    "    {'date': ('20200904', '20200906'), 'tile_name': '11SLA'},\n",
    "    {'date': ('20200907', '20200909'), 'tile_name': '11SLA'},\n",
    "    {'date': ('20200909', '20200911'), 'tile_name': '11SLA'},\n",
    "    {'date': ('20200912', '20200914'), 'tile_name': '11SLA'},\n",
    "    {'date': ('20200914', '20200916'), 'tile_name': '11SLA'},\n",
    "    {'date': ('20200917', '20200919'), 'tile_name': '11SLA'},\n",
    "    {'date': ('20200919', '20200921'), 'tile_name': '11SLA'},\n",
    "    {'date': ('20200922', '20200924'), 'tile_name': '11SLA'},\n",
    "    {'date': ('20200924', '20200926'), 'tile_name': '11SLA'},\n",
    "    {'date': ('20200927', '20200929'), 'tile_name': '11SLA'},\n",
    "    {'date': ('20200929', '20201001'), 'tile_name': '11SLA'},\n",
    "    {'date': ('20201002', '20201004'), 'tile_name': '11SLA'},\n",
    "    {'date': ('20201007', '20201009'), 'tile_name': '11SLA'},\n",
    "    {'date': ('20201009', '20201011'), 'tile_name': '11SLA'},\n",
    "    {'date': ('20201012', '20201014'), 'tile_name': '11SLA'},\n",
    "    {'date': ('20201014', '20201016'), 'tile_name': '11SLA'},\n",
    "    {'date': ('20201017', '20201019'), 'tile_name': '11SLA'},\n",
    "    {'date': ('20201019', '20201021'), 'tile_name': '11SLA'},\n",
    "    {'date': ('20201022', '20201024'), 'tile_name': '11SLA'},\n",
    "    {'date': ('20201024', '20201026'), 'tile_name': '11SLA'},\n",
    "    {'date': ('20201027', '20201029'), 'tile_name': '11SLA'},\n",
    "    {'date': ('20201029', '20201031'), 'tile_name': '11SLA'},\n",
    "    {'date': ('20201101', '20201103'), 'tile_name': '11SLA'},\n",
    "    {'date': ('20201103', '20201105'), 'tile_name': '11SLA'},\n",
    "    {'date': ('20200907', '20200909'), 'tile_name': '11SKB'},\n",
    "    {'date': ('20200912', '20200914'), 'tile_name': '11SKB'},\n",
    "    {'date': ('20200922', '20200924'), 'tile_name': '11SKB'},\n",
    "    {'date': ('20200927', '20200929'), 'tile_name': '11SKB'},\n",
    "    {'date': ('20201002', '20201004'), 'tile_name': '11SKB'},\n",
    "    {'date': ('20201012', '20201014'), 'tile_name': '11SKB'},\n",
    "    {'date': ('20200907', '20200909'), 'tile_name': '11SLB'},\n",
    "    {'date': ('20200912', '20200914'), 'tile_name': '11SLB'},\n",
    "    {'date': ('20200922', '20200924'), 'tile_name': '11SLB'},\n",
    "    {'date': ('20200927', '20200929'), 'tile_name': '11SLB'},\n",
    "    {'date': ('20201002', '20201004'), 'tile_name': '11SLB'},\n",
    "    {'date': ('20201012', '20201014'), 'tile_name': '11SLB'},\n",
    "    {'date': ('20201017', '20201019'), 'tile_name': '11SLB'},\n",
    "    {'date': ('20201022', '20201024'), 'tile_name': '11SLB'},\n",
    "    {'date': ('20201027', '20201029'), 'tile_name': '11SLB'},\n",
    "    {'date': ('20201101', '20201103'), 'tile_name': '11SLB'},\n",
    "    {'date': ('20200907', '20200909'), 'tile_name': '11SKB'},\n",
    "    {'date': ('20200912', '20200914'), 'tile_name': '11SKB'},\n",
    "    {'date': ('20200903', '20200905'), 'tile_name': '10TDK'},\n",
    "    {'date': ('20200908', '20200910'), 'tile_name': '10TDK'},\n",
    "    {'date': ('20200913', '20200915'), 'tile_name': '10TDK'},\n",
    "    {'date': ('20200918', '20200920'), 'tile_name': '10TDK'},\n",
    "    {'date': ('20200928', '20200930'), 'tile_name': '10TDK'},\n",
    "    {'date': ('20200903', '20200905'), 'tile_name': '10TDL'},\n",
    "    {'date': ('20200908', '20200910'), 'tile_name': '10TDL'},\n",
    "    {'date': ('20200913', '20200915'), 'tile_name': '10TDL'},\n",
    "    {'date': ('20200903', '20200904'), 'tile_name': '10TEK'},\n",
    "    {'date': ('20200905', '20200907'), 'tile_name': '10TEK'},\n",
    "    {'date': ('20200913', '20200915'), 'tile_name': '10TEK'},\n",
    "    {'date': ('20200924', '20200926'), 'tile_name': '10TEK'},\n",
    "    {'date': ('20200928', '20200930'), 'tile_name': '10TEK'},\n",
    "    {'date': ('20200910', '20200912'), 'tile_name': '10TFK'},\n",
    "    {'date': ('20200915', '20200917'), 'tile_name': '10TFK'},\n",
    "    {'date': ('20200903', '20200905'), 'tile_name': '10TEQ'},\n",
    "    {'date': ('20200908', '20200910'), 'tile_name': '10TEQ'},\n",
    "    {'date': ('20200913', '20200915'), 'tile_name': '10TEQ'},\n",
    "    {'date': ('20200903', '20200905'), 'tile_name': '10TFS'},\n",
    "    {'date': ('20200801', '20200802'), 'tile_name': '11SNT'},\n",
    "    {'date': ('20200803', '20200804'), 'tile_name': '11SNT'},\n",
    "    {'date': ('20200806', '20200807'), 'tile_name': '11SNT'},\n",
    "]"
   ]
  },
  {
   "cell_type": "code",
   "execution_count": 5,
   "id": "93e9d13f-9b13-4aaf-8112-3b7321d31a6a",
   "metadata": {
    "tags": []
   },
   "outputs": [
    {
     "name": "stdout",
     "output_type": "stream",
     "text": [
      "Download tile name: 10SEH for 20200928, 20200930, with filter None\n"
     ]
    },
    {
     "name": "stderr",
     "output_type": "stream",
     "text": [
      "Downloading: 100%|██████████| 357M/357M [01:04<00:00, 5.54MB/s] \n",
      "MD5 checksumming: 100%|██████████| 357M/357M [00:00<00:00, 541MB/s] \n"
     ]
    },
    {
     "name": "stdout",
     "output_type": "stream",
     "text": [
      "Downloaded 1 tiles, extracting and combining data\n",
      "Saving 100 jpg images into data/S2B_MSIL1C_20200929T190109_N0209_R013_T10SEH_20200929T213343 folder\n"
     ]
    }
   ],
   "source": [
    "d = download_tiles(labels[0:1], \"data\", None, None, nodefilter=None)"
   ]
  },
  {
   "cell_type": "code",
   "execution_count": 6,
   "id": "476e1d6a-0a15-4bf2-aead-3a3d51e417c1",
   "metadata": {},
   "outputs": [
    {
     "data": {
      "text/plain": [
       "Index                   93\n",
       "title                  117\n",
       "date                     8\n",
       "footprint              447\n",
       "url                    155\n",
       "quicklook_url          177\n",
       "path                   126\n",
       "rgb              723362544\n",
       "b12               60280328\n",
       "dtype: int64"
      ]
     },
     "execution_count": 6,
     "metadata": {},
     "output_type": "execute_result"
    }
   ],
   "source": [
    "d.memory_usage(deep=True)"
   ]
  }
 ],
 "metadata": {
  "kernelspec": {
   "display_name": "Python 3",
   "language": "python",
   "name": "python3"
  },
  "language_info": {
   "codemirror_mode": {
    "name": "ipython",
    "version": 3
   },
   "file_extension": ".py",
   "mimetype": "text/x-python",
   "name": "python",
   "nbconvert_exporter": "python",
   "pygments_lexer": "ipython3",
   "version": "3.9.2"
  }
 },
 "nbformat": 4,
 "nbformat_minor": 5
}
