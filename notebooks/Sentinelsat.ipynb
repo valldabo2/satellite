{
 "cells": [
  {
   "cell_type": "code",
   "execution_count": null,
   "id": "ea276202-a3c8-4c1d-bd9f-e7bcded61e9c",
   "metadata": {},
   "outputs": [],
   "source": [
    "import sys\n",
    "sys.path.append(\"../\")\n",
    "import os\n",
    "\n",
    "dir_ = \"data/\"\n",
    "\n",
    "try:\n",
    "    os.mkdir(dir_)\n",
    "except:\n",
    "    pass"
   ]
  },
  {
   "cell_type": "code",
   "execution_count": null,
   "id": "8de86ed9-b53c-4327-bf77-c0979aadd600",
   "metadata": {},
   "outputs": [],
   "source": [
    "os.chdir('../sentinelsat/')\n",
    "from sentinelsat import SentinelAPI\n",
    "from sentinelsat import SentinelProductsAPI\n",
    "os.chdir('../notebooks/')"
   ]
  },
  {
   "cell_type": "code",
   "execution_count": null,
   "id": "88121602-8974-4cbd-9f78-e73fc8305243",
   "metadata": {},
   "outputs": [],
   "source": [
    "# register at https://scihub.copernicus.eu/dhus/#/home\n",
    "user = 'hobbes778'\n",
    "password = ''"
   ]
  },
  {
   "cell_type": "code",
   "execution_count": null,
   "id": "2e555a47-497c-47ea-a13b-6d235d6767fc",
   "metadata": {
    "tags": []
   },
   "outputs": [],
   "source": [
    "list_of_tiles = [\n",
    "    {'tile_name': \"10SEH\", 'date': ('20200928', '20200930')},\n",
    "    {'tile_name': \"10TDK\", 'date': ('20201004', '20201009')},\n",
    "    {'tile_name': \"10TDL\", 'date': ('20200928', '20200930')},\n",
    "]"
   ]
  },
  {
   "cell_type": "code",
   "execution_count": null,
   "id": "93e9d13f-9b13-4aaf-8112-3b7321d31a6a",
   "metadata": {
    "tags": []
   },
   "outputs": [],
   "source": [
    "download_tiles(list_of_tiles, nfilter=None)"
   ]
  },
  {
   "cell_type": "code",
   "execution_count": null,
   "id": "7c03eb4b",
   "metadata": {},
   "outputs": [],
   "source": [
    "from skimage.util import view_as_blocks\n",
    "\n",
    "blocks = view_as_blocks(rgb, block_shape=(1098, 1098, 3))\n",
    "plot_image(blocks[1,1][0, :, :, :], factor=5/2e4, clip_range=(0,1), figsize=(5, 5))"
   ]
  },
  {
   "cell_type": "code",
   "execution_count": null,
   "id": "bf464a4d",
   "metadata": {
    "tags": []
   },
   "outputs": [],
   "source": [
    "from skimage.transform import rescale\n",
    "\n",
    "scaled = rescale(blocks[1,1][0, :, :, :] , scale=0.2, preserve_range=True, multichannel=True)\n",
    "print(scaled.shape, blocks[1,1][0, :, :, :].shape)\n",
    "plot_image(scaled, factor=5/2e4, clip_range=(0,1), figsize=(5, 5))"
   ]
  }
 ],
 "metadata": {
  "kernelspec": {
   "display_name": "Python 3",
   "language": "python",
   "name": "python3"
  },
  "language_info": {
   "codemirror_mode": {
    "name": "ipython",
    "version": 3
   },
   "file_extension": ".py",
   "mimetype": "text/x-python",
   "name": "python",
   "nbconvert_exporter": "python",
   "pygments_lexer": "ipython3",
   "version": "3.9.2"
  }
 },
 "nbformat": 4,
 "nbformat_minor": 5
}
